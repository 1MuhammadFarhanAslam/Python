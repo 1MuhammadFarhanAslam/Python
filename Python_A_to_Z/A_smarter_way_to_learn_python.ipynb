{
 "cells": [
  {
   "cell_type": "markdown",
   "metadata": {},
   "source": [
    "# **A quick tour of \"A smarter way to learn Python\"**"
   ]
  },
  {
   "cell_type": "markdown",
   "metadata": {},
   "source": [
    "## **1: Print**\n",
    "\n",
    "**Rules**\n",
    "\n",
    "* **Basic output:** `print(\"Hello, world!\")`\n",
    "* **Multiple args:** `print(\"Value:\", 10, \"Other:\", 3.14)`\n",
    "* **`sep` argument:** `print(\"a\", \"b\", \"c\", sep=\", \")`\n",
    "* **`end` argument:** `print(\"Line 1\", end=\" \"); print(\"Line 2\")`\n",
    "* **f-strings:** `print(f\"My name is {name}\")`\n",
    "* **`.format()` method:** `print(\"My name is {}\".format(name))`\n",
    "* **Escape sequences:** `print(\"Line 1\\nLine 2\\tTabbed\")`\n",
    "* **Printing variables:** `print(x)`\n",
    "* **Printing expressions:** `print(2 + 3)`\n",
    "* **File output:** `with open(\"output.txt\", \"w\") as f: print(\"Data\", file=f)`\n",
    "* **No newline:** `print(\"...\", end=\"\", flush=True)`\n",
    "* **Printing objects:** `print(my_object)`\n",
    "* **Printing booleans:** `print(True)` or `print(False)`\n",
    "* **Printing None:** `print(None)`"
   ]
  },
  {
   "cell_type": "code",
   "execution_count": null,
   "metadata": {},
   "outputs": [],
   "source": [
    "# print statements\n",
    "print(\"Hello, World!\")"
   ]
  },
  {
   "cell_type": "markdown",
   "metadata": {},
   "source": [
    "# **2: Variables for Strings**\n",
    "\n",
    "**Rules**\n",
    "\n",
    "* **Start with a letter or underscore:** `_my_var` or `variable_name` (valid), `123var` (invalid).\n",
    "* **Letters, numbers, underscores only:** `my_variable_123` (valid), `my-variable` (invalid).\n",
    "* **Case matters:** `myVar` and `myvar` are different.\n",
    "* **No spaces:** Use `my_variable` instead of `my variable`.\n",
    "* **Avoid keywords:** Don't use `if`, `else`, `for`, etc.\n",
    "* **Descriptive names:** `user_age` is better than `a`.\n",
    "* **snake_case:** `total_count` for multi-word names.\n",
    "* **UPPERCASE for constants:** `MAX_VALUE`.\n",
    "* **_leading underscore:** suggests internal use.\n",
    "* **__leading double underscore:** class name mangling."
   ]
  },
  {
   "cell_type": "code",
   "execution_count": null,
   "metadata": {},
   "outputs": [],
   "source": [
    "name = \"Farhan\"\n",
    "print(name)"
   ]
  },
  {
   "cell_type": "code",
   "execution_count": null,
   "metadata": {},
   "outputs": [],
   "source": [
    "name = \"Farhan\"\n",
    "print(\"Hello, \" + name + \"!\")\n",
    "print(\"Hello, %s!\" % name)  # old style\n",
    "print(f\"Hello, {name}!\")  # new style   # f-string"
   ]
  },
  {
   "cell_type": "code",
   "execution_count": null,
   "metadata": {},
   "outputs": [],
   "source": [
    "print(2+2)"
   ]
  },
  {
   "cell_type": "markdown",
   "metadata": {},
   "source": [
    "# **3: Variables for Numbers**\n",
    "\n",
    "**Rules**\n",
    "\n",
    "* **Integers:** `my_int = 10` (whole numbers).\n",
    "* **Floats:** `my_float = 3.14` (decimal numbers).\n",
    "* **Standard operations:** `+, -, *, /, //, %, **`.\n",
    "* **Dynamic typing:** Python infers number type.\n",
    "* **Type conversion:** `int(3.9)`, `float(5)`.\n",
    "* **Complex numbers:** `my_complex = 2 + 3j`.\n",
    "* **Large integers:** No size limits (memory-bound).\n",
    "* **Readability:** `large_number = 1_000_000`.\n",
    "* **Hex/oct/bin:** `0xFF`, `0o377`, `0b11110000`.\n",
    "* **No leading zeros:** Except `0`.\n",
    "* **Float precision:** `0.1 + 0.2 != 0.3` (be aware).\n",
    "* **Round floats:** `round(3.14159, 2)`.\n",
    "* **`math` module:** `import math; math.sqrt(16)`.\n",
    "* A variable name can't be a number but you can include numbers in a variable name — as long as you don't begin the name with a number."
   ]
  },
  {
   "cell_type": "code",
   "execution_count": null,
   "metadata": {},
   "outputs": [],
   "source": [
    "weight = 100\n",
    "print (weight + 25)\n",
    "print (weight - 25) \n",
    "print (weight * 2)\n",
    "print (weight / 2)"
   ]
  },
  {
   "cell_type": "code",
   "execution_count": null,
   "metadata": {},
   "outputs": [],
   "source": [
    "weight = 100\n",
    "print(\"Weight: %g\" % weight)    # general format  # 150\n",
    "print(\"Weight: %f\" % weight)    # floating point\n",
    "print(\"Weight: %.2f\" % weight)  # floating point with 2 decimal places  # 150.00\n",
    "print(\"Weight: %e\" % weight)    # scientific notation   # 1.500000e+02\n"
   ]
  },
  {
   "cell_type": "code",
   "execution_count": null,
   "metadata": {},
   "outputs": [],
   "source": [
    "num_1 = 10\n",
    "num_2 = num_1 + 5\n",
    "print(num_2)"
   ]
  },
  {
   "cell_type": "code",
   "execution_count": null,
   "metadata": {},
   "outputs": [],
   "source": [
    "num_1 = 10\n",
    "num_2 = 5\n",
    "print(num_1 + num_2)"
   ]
  },
  {
   "cell_type": "code",
   "execution_count": null,
   "metadata": {},
   "outputs": [],
   "source": [
    "num1 = \"10\" # string\n",
    "num2 = \"5\"  # string\n",
    "print(num1 + num2)  # 105"
   ]
  },
  {
   "cell_type": "code",
   "execution_count": null,
   "metadata": {},
   "outputs": [],
   "source": [
    "# A variable name can't be a number but you can include numbers in a variable name — as long as you don't begin the name with a number.\n",
    "\n",
    "1 = 10  # SyntaxError: can't assign to literal\n",
    "1num = 10  # SyntaxError: invalid syntax\n",
    "1_num = 10  # SyntaxError: invalid syntax\n",
    "num1 = 10   # correct"
   ]
  },
  {
   "cell_type": "markdown",
   "metadata": {},
   "source": [
    "# **4: Math expressions: Familiar operators**\n",
    "\n",
    "**Rules**\n",
    "\n",
    "* **Addition:** `a + b`\n",
    "* **Subtraction:** `a - b`\n",
    "* **Multiplication:** `a * b`\n",
    "* **Division (float):** `a / b`\n",
    "* **Floor Division (integer):** `a // b`\n",
    "* **Modulo (remainder):** `a % b`\n",
    "* **Exponentiation:** `a ** b`\n",
    "* **PEMDAS/BODMAS:** Order of operations.\n",
    "* **Grouping:** `(a + b) * c`\n",
    "* **Augmented assignment:** `a += 1`, `a -= 1`, etc.\n",
    "* **Unary plus/minus:** `+a`, `-a`\n",
    "* **Mixed types:** Python handles conversion.\n",
    "* **`math` module:** `math.sqrt()`, `math.pow()`, etc."
   ]
  },
  {
   "cell_type": "code",
   "execution_count": null,
   "metadata": {},
   "outputs": [],
   "source": [
    "# Math expressions: Familiar operators\n",
    "# Addition (+)\n",
    "# Subtraction (-)\n",
    "# Multiplication (*)\n",
    "# Division (/)\n",
    "# Exponentiation (**)\n",
    "# Modulo (%)\n",
    "# Floor division (//)\n",
    "\n",
    "# Addition\n",
    "print(5 + 5)  # 10\n",
    "\n",
    "# Subtraction\n",
    "print(10 - 5)  # 5\n",
    "\n",
    "# Multiplication\n",
    "print(10 * 2)  # 20\n",
    "\n",
    "# Division\n",
    "print(10 / 2)  # 5.0\n",
    "\n",
    "# Exponentiation\n",
    "print(2 ** 3)  # 8\n",
    "\n",
    "# Modulo\n",
    "print(10 % 3)  # 1  # 10 divided by 3 equals 3 with a remainder of 1\n",
    "\n",
    "# Floor division\n",
    "print(10 // 3)  # 3  # 10 divided by 3 equals 3.3333. The floor division // rounds the result down to the nearest whole number"
   ]
  },
  {
   "cell_type": "code",
   "execution_count": null,
   "metadata": {},
   "outputs": [],
   "source": [
    "# Order of operations\n",
    "# Parentheses\n",
    "# Exponents\n",
    "# Multiplication and Division\n",
    "# Addition and Subtraction\n",
    "\n",
    "# Parentheses\n",
    "print(5 + 5 * 10)  # 55\n",
    "print((5 + 5) * 10)  # 100\n",
    "\n",
    "# Exponents\n",
    "print(2 ** 2 * 2)  # 8\n",
    "print(2 ** (2 * 2))  # 16\n",
    "\n",
    "# Multiplication and Division\n",
    "print(10 * 2 / 2)  # 10\n",
    "print(10 /2 * 2)  # 10  # 10 divided by 2 equals 5, then multiplied by 2 equals 10\n",
    "\n",
    "# Addition and Subtraction\n",
    "print(10 - 2 + 2)  # 10\n",
    "print(10 + 2 - 2)  # 10"
   ]
  },
  {
   "cell_type": "code",
   "execution_count": null,
   "metadata": {},
   "outputs": [],
   "source": [
    "# Assignment operator (=)\n",
    "# Addition assignment (+=)\n",
    "# Subtraction assignment (-=)\n",
    "# Multiplication assignment (*=)\n",
    "# Division assignment (/=)\n",
    "# Exponentiation assignment (**=)\n",
    "# Modulo assignment (%=)\n",
    "# Floor division assignment (//=)\n",
    "\n",
    "# Assignment operator (=)\n",
    "num = 10\n",
    "print(num)  # 10\n",
    "\n",
    "# Addition assignment (+=)\n",
    "num = 10\n",
    "num += 5\n",
    "print(num)\n",
    "\n",
    "# Subtraction assignment (-=)\n",
    "num = 10\n",
    "num -= 5\n",
    "print(num)\n",
    "\n",
    "# Multiplication assignment (*=)\n",
    "num = 10\n",
    "num *= 5\n",
    "print(num)\n",
    "\n",
    "# Division assignment (/=)\n",
    "num = 10\n",
    "num /= 5\n",
    "print(num)\n",
    "\n",
    "# Exponentiation assignment (**=)\n",
    "num = 10\n",
    "num **= 5\n",
    "print(num)\n",
    "\n",
    "# Modulo assignment (%=)\n",
    "num = 10\n",
    "num %= 5\n",
    "print(num)\n",
    "\n",
    "# Floor division assignment (//=)\n",
    "num = 10\n",
    "num //= 5\n",
    "print(num)"
   ]
  },
  {
   "cell_type": "code",
   "execution_count": null,
   "metadata": {},
   "outputs": [],
   "source": [
    "# Comparison operators\n",
    "# Equal (==)\n",
    "# Not equal (!=)\n",
    "# Greater than (>)\n",
    "# Less than (<)\n",
    "# Greater than or equal to (>=)\n",
    "# Less than or equal to (<=)\n",
    "\n",
    "# Equal (==)\n",
    "print(5 == 5)  # True\n",
    "print(5 == 10)  # False\n",
    "\n",
    "\n",
    "# Not equal (!=)\n",
    "print(5 != 5)  # False\n",
    "print(5 != 10)  # True\n",
    "\n",
    "# Greater than (>)\n",
    "print(5 > 5)  # False\n",
    "print(5 > 10)  # False\n",
    "print(10 >5)  # True\n",
    "\n",
    "# Less than (<)\n",
    "print(5 < 5)  # False\n",
    "print(5 < 10)  # True\n",
    "print(10 <5)  # False\n",
    "\n",
    "# Greater than or equal to (>=)\n",
    "print(5 >= 5)  # True\n",
    "print(5 >= 10)  # False\n",
    "print(10 >=5)  # True\n",
    "\n",
    "# Less than or equal to (<=)\n",
    "print(5 <= 5)  # True\n",
    "print(5 <= 10)  # True\n",
    "print(10 <=5)  # False"
   ]
  },
  {
   "cell_type": "code",
   "execution_count": null,
   "metadata": {},
   "outputs": [],
   "source": [
    "# Logical operators\n",
    "# and\n",
    "# or\n",
    "# not\n",
    "\n",
    "# and\n",
    "print(True and True)  # True\n",
    "\n",
    "# or\n",
    "print(True or False)  # True\n",
    "\n",
    "# not\n",
    "print(not True)  # False"
   ]
  },
  {
   "cell_type": "code",
   "execution_count": null,
   "metadata": {},
   "outputs": [],
   "source": [
    "# Logical operators with comparison operators\n",
    "# and\n",
    "# or\n",
    "# not\n",
    "\n",
    "# and\n",
    "print(5 == 5 and 10 == 10)  # True\n",
    "print(5 == 5 and 10 == 5)  # False\n",
    "\n",
    "# or\n",
    "print(5 == 5 or 10 == 10)  # True\n",
    "print(5 == 5 or 10 == 5)  # True\n",
    "print(5 == 10 or 10 == 5)  # False\n",
    "\n",
    "# not\n",
    "print(not 5 == 5)  # False\n",
    "print(not 5 == 10)  # True"
   ]
  },
  {
   "cell_type": "markdown",
   "metadata": {},
   "source": [
    "# **5: Variable Names Legal and Illegal**\n",
    "\n",
    "**Legal:**\n",
    "\n",
    "* **Starts with letter:** `variable`, `myVariable`.\n",
    "* **Starts with underscore:** `_private_var`.\n",
    "* **Letters, numbers, underscores:** `variable_123`.\n",
    "* **Case-sensitive:** `myVar`, `myvar` (different).\n",
    "* **Descriptive names:** `user_age`.\n",
    "* **snake_case:** `user_input`.\n",
    "* **UPPERCASE constants:** `PI`.\n",
    "\n",
    "**Illegal**:\n",
    "\n",
    "* **Starts with number:** `123variable`.\n",
    "* **Contains spaces:** `my variable`.\n",
    "* **Special chars (except _):** `my-variable`, `variable$`.\n",
    "* **Python keywords:** `if`, `else`, `for`, etc.\n",
    "* **Leading zeros:** `010` (use `10`).\n",
    "\n",
    "## Clarifications:\n",
    "\n",
    "* `__var` (double leading underscore): name mangling in classes.\n",
    "* `var_` (trailing underscore): avoids keyword conflicts.\n",
    "* Avoid shadowing built-in names like `list`, `str`."
   ]
  },
  {
   "cell_type": "code",
   "execution_count": null,
   "metadata": {},
   "outputs": [],
   "source": [
    "greetings = \"Hello!\"\n",
    "seprator = \", \"\n",
    "name = \"Farhan\"\n",
    "print(greetings + seprator + name)  # Hello!, Farhan\n",
    "\n",
    "\n",
    "# String concatenation\n",
    "# String concatenation is the operation of joining two strings together.\n",
    "# You can concatenate strings using the + operator."
   ]
  },
  {
   "cell_type": "markdown",
   "metadata": {},
   "source": [
    "# **Math expressions: Unfamiliar operators**"
   ]
  },
  {
   "cell_type": "code",
   "execution_count": null,
   "metadata": {},
   "outputs": [],
   "source": [
    "a = 1\n",
    "b = 2\n",
    "print(a + b)  # 3\n",
    "\n",
    "a = 1\n",
    "b = 2\n",
    "print(b - a) # 1\n",
    "\n",
    "a = 1\n",
    "b = 2\n",
    "print(a * b)  # 2\n",
    "\n",
    "a = 1\n",
    "b = 2\n",
    "print(b / a)  # 2.0\n",
    "\n",
    "a = 1\n",
    "b = 2\n",
    "print(a ** b)  # 1\n",
    "\n",
    "a = 1\n",
    "b = 2\n",
    "print(b % a)  # 0\n",
    "\n",
    "a = 1\n",
    "b = 2\n",
    "print(b // a)  # 2\n",
    "\n"
   ]
  },
  {
   "cell_type": "code",
   "execution_count": null,
   "metadata": {},
   "outputs": [],
   "source": [
    "a = \"Hello, \"\n",
    "b = \"World!\"\n",
    "print(a + b)  # Hello, World!\n",
    "\n",
    "# String replication\n",
    "# String replication is the operation of repeating a string multiple times.\n",
    "# You can replicate strings using the * operator.\n",
    "\n",
    "a = \"Hello, \"\n",
    "print(a * 5)  # Hello, Hello, Hello, Hello, Hello,\n",
    "\n",
    "\n",
    "name = \"Farhan\"\n",
    "print(name * 3)  # FarhanFarhanFarhan\n",
    "\n",
    "# String formatting\n",
    "# String formatting is the operation of inserting values into a string.\n",
    "# You can format strings using the % operator.\n",
    "\n",
    "name = \"Farhan\"\n",
    "print(\"Hello, %s!\" % name)  # Hello, Farhan!\n",
    "\n",
    "# String interpolation\n",
    "# String interpolation is the operation of inserting values into a string.\n",
    "\n",
    "name = \"Farhan\"\n",
    "print(f\"Hello, {name}!\")  # Hello, Farhan!\n",
    "\n",
    "# String methods\n",
    "# capitalize()\n",
    "# lower()\n",
    "# upper()\n",
    "# title()\n",
    "# count()\n",
    "# find()\n",
    "# replace()\n",
    "# split()\n",
    "# join()\n",
    "\n",
    "# capitalize()\n",
    "# The capitalize() method returns a copy of the string with the first character capitalized and the rest lowercased.\n",
    "\n",
    "name = \"farhan\"\n",
    "print(name.capitalize())  # Farhan\n",
    "\n",
    "# lower()\n",
    "# The lower() method returns a copy of the string converted to lowercase.\n",
    "\n",
    "name = \"Farhan\"\n",
    "print(name.lower())  # farhan\n",
    "\n",
    "# upper()\n",
    "# The upper() method returns a copy of the string converted to uppercase.\n",
    "\n",
    "name = \"Farhan\"\n",
    "print(name.upper())  # FARHAN\n",
    "\n",
    "# title()\n",
    "\n",
    "name = \"farhan\"\n",
    "print(name.title())  # Farhan\n",
    "\n",
    "# count()\n",
    "# The count() method returns the number of occurrences of a substring in the given string.\n",
    "\n",
    "name = \"farhan\"\n",
    "print(name.count(\"a\"))  # 2\n",
    "\n",
    "# find()\n",
    "# The find() method returns the index of the first occurrence of a substring in the given string.\n",
    "\n",
    "name = \"farhan\"\n",
    "print(name.find(\"a\"))  # 1\n",
    "\n",
    "# replace()\n",
    "# The replace() method returns a copy of the string with all occurrences of a substring replaced with another substring.\n",
    "\n",
    "name = \"farhan\"\n",
    "print(name.replace(\"a\", \"A\"))  # fAr\n",
    "\n",
    "# split()\n",
    "# The split() method returns a list of substrings separated by a delimiter.\n",
    "\n",
    "name = \"farhan\"\n",
    "print(name.split(\"a\"))  # ['f', 'r', 'hn']\n",
    "\n",
    "# join()\n",
    "# The join() method returns a string concatenated with the elements of an iterable.\n",
    "\n",
    "name = \"farhan\"\n",
    "print(\"-\".join(name))  # f-a-r-h-a-n\n",
    "\n",
    "# String indexing\n",
    "# You can access individual characters in a string using indexing.\n",
    "# Indexing starts at 0.\n",
    "\n",
    "name = \"Farhan\"\n",
    "print(name[0])  # F\n",
    "print(name[1])  # a\n",
    "print(name[2])  # r\n",
    "print(name[3])  # h\n",
    "print(name[4])  # a\n",
    "print(name[5])  # n\n",
    "\n",
    "# String slicing\n",
    "# You can access a range of characters in a string using slicing.\n",
    "# Slicing uses the syntax [start:stop:step].\n",
    "\n",
    "name = \"Farhan\"\n",
    "print(name[0:3])  # Far\n",
    "print(name[1:4])  # arh\n",
    "print(name[2:5])  # rha\n",
    "print(name[3:6])  # han\n",
    "\n",
    "# String length\n",
    "# The len() function returns the number of characters in a string.\n",
    "\n",
    "name = \"Farhan\"\n",
    "print(len(name\n",
    "          ))  # 6\n",
    "\n",
    "# String membership\n",
    "# The in operator returns True if a substring is present in the given string.\n",
    "\n",
    "name = \"Farhan\"\n",
    "print(\"Far\" in name)  # True\n",
    "print(\"han\" in name)  # True\"\n",
    "\n",
    "# String repetition\n",
    "# The * operator repeats a string a specified number of times."
   ]
  },
  {
   "cell_type": "markdown",
   "metadata": {},
   "source": [
    "# **if statements**"
   ]
  },
  {
   "cell_type": "code",
   "execution_count": null,
   "metadata": {},
   "outputs": [],
   "source": [
    "if \"Farhan\" == \"Farhan\":\n",
    "    print(\"Hello, Farhan!\")"
   ]
  },
  {
   "cell_type": "code",
   "execution_count": null,
   "metadata": {},
   "outputs": [],
   "source": [
    "if name == \"Farhan\":\n",
    "    print(\"Hello, Farhan!\")"
   ]
  },
  {
   "cell_type": "code",
   "execution_count": null,
   "metadata": {},
   "outputs": [],
   "source": [
    "if name == \"Farhan\":\n",
    "    print(\"Hello, Farhan!\")\n",
    "else:\n",
    "    print(\"Hello, World!\")"
   ]
  },
  {
   "cell_type": "code",
   "execution_count": null,
   "metadata": {},
   "outputs": [],
   "source": [
    "name = input(\"What is your name? \")\n",
    "name = name.lower()\n",
    "if name == \"farhan\":\n",
    "    print(\"Hello, Farhan!\")\n",
    "else:\n",
    "    print(\"Hello, World!\")"
   ]
  },
  {
   "cell_type": "code",
   "execution_count": null,
   "metadata": {},
   "outputs": [],
   "source": [
    "name = input(\"What is your name? \")\n",
    "print(name)\n",
    "name = name.upper()\n",
    "if name == \"FARHAN\":\n",
    "    print(\"Hello, Farhan!\")\n",
    "else:\n",
    "    print(\"Hello, World!\")"
   ]
  },
  {
   "cell_type": "code",
   "execution_count": null,
   "metadata": {},
   "outputs": [],
   "source": [
    "name = input(\"What is your name? \")\n",
    "print(name)\n",
    "name = name.capitalize()\n",
    "if name == \"Farhan\":\n",
    "    print(\"Hello, Farhan!\")\n",
    "else:\n",
    "    print(\"Hello, World!\")"
   ]
  },
  {
   "cell_type": "code",
   "execution_count": null,
   "metadata": {},
   "outputs": [],
   "source": [
    "species = input(\"What species is it? \")\n",
    "status = \"Not ok\"\n",
    "kingdom = \"Animal\"\n",
    "if species == \"cat\":\n",
    "    print(\"Checking species status...\")\n",
    "    if status == \"ok\":\n",
    "        print(\"Checking status...\")\n",
    "        if kingdom == \"Animal\":\n",
    "            print(\"checking kingdom...\")\n",
    "            print(\"It's a cat!\")\n",
    "        else:\n",
    "            print(\"It's not an animal!\")\n",
    "    else:\n",
    "        print(\"It's not ok!\")\n",
    "else:\n",
    "    print(\"It's not a cat!\")\n"
   ]
  },
  {
   "cell_type": "code",
   "execution_count": null,
   "metadata": {},
   "outputs": [],
   "source": [
    "species = input(\"What species is it? \").lower()\n",
    "status = input(\"What is the status? \").lower()\n",
    "kingdom = input(\"What kingdom is it? \").lower()\n",
    "if species == \"cat\":\n",
    "    print(\"Checking specie...\")\n",
    "    if status == \"ok\":\n",
    "        print(\"Checking status...\")\n",
    "        if kingdom == \"animal\": \n",
    "            print(\"It's a cat!\")\n",
    "        else:\n",
    "            print(\"It's not an animal!\")\n",
    "    else:\n",
    "        print(\"It's not ok!\")\n",
    "else:\n",
    "    print(\"It's not a cat!\")\n"
   ]
  },
  {
   "cell_type": "code",
   "execution_count": null,
   "metadata": {},
   "outputs": [],
   "source": [
    "# comparison operator\n",
    "\n",
    "a = 10\n",
    "b = 20\n",
    "if a == b:\n",
    "    print(\"a is equal to b\")\n",
    "else:\n",
    "    print(\"a is not equal to b\")"
   ]
  },
  {
   "cell_type": "code",
   "execution_count": null,
   "metadata": {},
   "outputs": [],
   "source": [
    "# comparison operator\n",
    "\n",
    "a = 10\n",
    "b = 20\n",
    "if a == b:\n",
    "    print(\"a is equal to b\")\n",
    "elif a > b:\n",
    "    print(\"a is greater than b\")\n",
    "else:\n",
    "    print(\"a is less than b\")"
   ]
  },
  {
   "cell_type": "code",
   "execution_count": null,
   "metadata": {},
   "outputs": [],
   "source": [
    "# comparison operator\n",
    "\n",
    "a = 10\n",
    "b = 20\n",
    "if a == b:\n",
    "    print(\"a is equal to b\")\n",
    "elif a >= b:\n",
    "    print(\"a is greater than b\")\n",
    "elif a <= b:\n",
    "    print(\"a is less than b\")\n",
    "else:\n",
    "    print(\"a is not equal to b\")"
   ]
  },
  {
   "cell_type": "code",
   "execution_count": null,
   "metadata": {},
   "outputs": [],
   "source": [
    "buy_score = 0\n",
    "\n",
    "fruit_quality = input(\"How is the quality of the fruit? \").lower()\n",
    "fruit_price = input(\"How is the price of the fruit? \").lower()\n",
    "fruit_color = input(\"What is the color of the fruit? \").lower()\n",
    "\n",
    "if fruit_quality == \"good\":\n",
    "    buy_score += 1\n",
    "if fruit_price == \"cheap\":\n",
    "    buy_score += 1\n",
    "if fruit_color == \"red\":\n",
    "    buy_score += 1\n",
    "if buy_score == 3:\n",
    "    print(\"Buy the fruit!\")\n",
    "else:\n",
    "    print(\"Don't buy the fruit!\")"
   ]
  },
  {
   "cell_type": "code",
   "execution_count": null,
   "metadata": {},
   "outputs": [],
   "source": [
    "#testing set of conditions\n",
    "weight = int(input(\"Enter your weight: \"))\n",
    "running_time = int(input(\"Enter your running time: \"))\n",
    "if weight < 100 and running_time < 6:\n",
    "    print(\"Try to recruit him!\")\n",
    "else:\n",
    "    print(\"Don't recruit him!\")"
   ]
  },
  {
   "cell_type": "code",
   "execution_count": null,
   "metadata": {},
   "outputs": [],
   "source": [
    "weight = int(input(\"Enter your weight: \"))\n",
    "running_time = int(input(\"Enter your running time: \"))\n",
    "\n",
    "if weight < 100 and running_time < 6:\n",
    "    print(\"Try to recruit him!\")\n",
    "else:\n",
    "    if weight >= 100:\n",
    "        print(\"Weight is too high.\")\n",
    "    if running_time >= 6:\n",
    "        print(\"Running time is too slow.\")\n",
    "    print(\"Don't recruit him!\")"
   ]
  },
  {
   "cell_type": "code",
   "execution_count": null,
   "metadata": {},
   "outputs": [],
   "source": [
    "weight = int(input(\"Enter your weight: \"))\n",
    "running_time = int(input(\"Enter your running time: \"))\n",
    "age = int(input(\"Enter your age: \"))\n",
    "height = int(input(\"Enter your height: \"))\n",
    "\n",
    "if weight < 300 and running_time < 6 and age > 17 and height < 72:\n",
    "    status = \"try to recruit him\"\n",
    "else:\n",
    "    status = \"don't recruit him\"\n",
    "\n",
    "print(status)"
   ]
  },
  {
   "cell_type": "code",
   "execution_count": null,
   "metadata": {},
   "outputs": [],
   "source": [
    "weight = int(input(\"Enter your weight: \"))\n",
    "running_time = int(input(\"Enter your running time: \"))\n",
    "age = int(input(\"Enter your age: \"))\n",
    "height = int(input(\"Enter your height: \"))\n",
    "\n",
    "if weight < 300 or running_time < 6 or age > 17 or height < 72:\n",
    "    status = \"try to recruit him\"\n",
    "else:\n",
    "    status = \"don't recruit him\"\n",
    "\n",
    "print(status)"
   ]
  },
  {
   "cell_type": "code",
   "execution_count": null,
   "metadata": {},
   "outputs": [],
   "source": [
    "age = int(input(\"Enter your age: \"))\n",
    "res = input(\"Enter your residence: \").capitalize()\n",
    "\n",
    "if age > 21 or age < 65 and res == \"United Kingdom\":  # age > 65 or (age < 21 and res == \"U.K.\")\n",
    "    print(\"You are eligible to vote.\")\n",
    "else:\n",
    "    print(\"You are not eligible to vote.\")"
   ]
  },
  {
   "cell_type": "code",
   "execution_count": null,
   "metadata": {},
   "outputs": [],
   "source": [
    "a = 10\n",
    "b = 10\n",
    "c = 30\n",
    "d = 30\n",
    "e = 50\n",
    "f = 60\n",
    "g = 70\n",
    "h = 80\n",
    "x = 90\n",
    "y = 90\n",
    "\n",
    "\n",
    "if c == d:\n",
    "    if x == y:\n",
    "        g = h\n",
    "        print(g)\n",
    "    elif a == b:\n",
    "        d = e\n",
    "        print(d)\n",
    "    else:\n",
    "        e = f\n",
    "        print(e)\n",
    "else:\n",
    "    e = f\n",
    "    print(e)"
   ]
  },
  {
   "cell_type": "code",
   "execution_count": null,
   "metadata": {},
   "outputs": [],
   "source": [
    "a = 10\n",
    "b = 10\n",
    "c = 30\n",
    "d = 30\n",
    "e = 50\n",
    "f = 60\n",
    "g = 70\n",
    "h = 80\n",
    "x = 90\n",
    "y = 90\n",
    "\n",
    "\n",
    "if c == d:\n",
    "    if x != y:\n",
    "        g = h\n",
    "        print(g)\n",
    "    elif a == b:\n",
    "        d = e\n",
    "        print(d)\n",
    "    else:\n",
    "        e = f\n",
    "        print(e)\n",
    "else:\n",
    "    e = f\n",
    "    print(e)"
   ]
  },
  {
   "cell_type": "code",
   "execution_count": null,
   "metadata": {},
   "outputs": [],
   "source": [
    "a = 10\n",
    "b = 10\n",
    "c = 30\n",
    "d = 30\n",
    "e = 50\n",
    "f = 60\n",
    "g = 70\n",
    "h = 80\n",
    "x = 90\n",
    "y = 90\n",
    "\n",
    "\n",
    "if c == d:\n",
    "    if x != y:\n",
    "        g = h\n",
    "        print(g)\n",
    "    elif a != b:\n",
    "        d = e\n",
    "        print(d)\n",
    "    else:\n",
    "        e = f\n",
    "        print(e)\n",
    "else:\n",
    "    e = f\n",
    "    print(e)"
   ]
  },
  {
   "cell_type": "markdown",
   "metadata": {},
   "source": [
    "# **Lists**"
   ]
  },
  {
   "cell_type": "code",
   "execution_count": null,
   "metadata": {},
   "outputs": [],
   "source": [
    "fruit_0 = \"apple\"\n",
    "fruit_1 = \"banana\"\n",
    "fruit_2 = \"cherry\"\n",
    "fruit_3 = \"date\"\n",
    "fruit_4 = \"elderberry\"\n",
    "fruit_5 = \"fig\"\n",
    "fruit_6 = \"grape\"\n",
    "fruit_7 = \"honeydew\"\n",
    "fruit_8 = \"kiwi\"\n",
    "fruit_9 = \"lemon\"\n",
    "\n",
    "# create empty list to append fruits\n",
    "fruits = []\n",
    "\n",
    "# append fruits to the list\n",
    "fruits.append(fruit_0)\n",
    "fruits.append(fruit_1)\n",
    "fruits.append(fruit_2)\n",
    "fruits.append(fruit_3)\n",
    "fruits.append(fruit_4)\n",
    "fruits.append(fruit_5)\n",
    "fruits.append(fruit_6)\n",
    "fruits.append(fruit_7)\n",
    "fruits.append(fruit_8)\n",
    "fruits.append(fruit_9)\n",
    "\n",
    "\n",
    "fruit = input(\"Enter a fruit: \").lower()\n",
    "if fruit in fruits:\n",
    "    print(\"It's present in a fruit list!\")\n",
    "else:\n",
    "    print(\"It's not in a fruit list!\")"
   ]
  },
  {
   "cell_type": "code",
   "execution_count": null,
   "metadata": {},
   "outputs": [],
   "source": [
    "# create empty list to append fruits\n",
    "fruits = [\"apple\", \"banana\", \"cherry\", \"date\", \"elderberry\", \"fig\", \"grape\", \"honeydew\", \"kiwi\", \"lemon\"]\n",
    "\n",
    "\n",
    "fruit = input(\"Enter a fruit: \").lower()\n",
    "if fruit in fruits:\n",
    "    print(\"It's present in a fruit list!\")\n",
    "else:\n",
    "    print(\"It's not in a fruit list!\")"
   ]
  },
  {
   "cell_type": "markdown",
   "metadata": {},
   "source": [
    "# **Lists: Adding and changing elements**"
   ]
  },
  {
   "cell_type": "code",
   "execution_count": null,
   "metadata": {},
   "outputs": [],
   "source": [
    "cities = [\"Lahore\", \"Karachi\", \"Mirpur\", \"Neelum\", \"Hyderabad\", \"Islamabad\", \"Rawalpindi\", \"Quetta\", \"Peshawar\", \"Faisalabad\"]\n",
    "\n",
    "cities.append(\"Multan\")\n",
    "print(cities)"
   ]
  },
  {
   "cell_type": "code",
   "execution_count": null,
   "metadata": {},
   "outputs": [],
   "source": [
    "cities = [\"Lahore\", \"Karachi\", \"Mirpur\", \"Neelum\", \"Hyderabad\", \"Islamabad\", \"Rawalpindi\", \"Quetta\", \"Peshawar\", \"Faisalabad\"]\n",
    "\n",
    "cities = cities + [\"Qasur\", \"Muree\"]\n",
    "print(cities)"
   ]
  },
  {
   "cell_type": "code",
   "execution_count": null,
   "metadata": {},
   "outputs": [],
   "source": [
    "# Initialize empty list\n",
    "today_tasks = []\n",
    "\n",
    "# Add tasks to the list\n",
    "today_tasks.append(\"Wake up\")\n",
    "today_tasks.append(\"Brush teeth\")\n",
    "today_tasks.append(\"Take a shower\")\n",
    "today_tasks.append(\"Eat breakfast\")\n",
    "today_tasks.append(\"Go to work\")\n",
    "\n",
    "print(today_tasks)"
   ]
  },
  {
   "cell_type": "code",
   "execution_count": null,
   "metadata": {},
   "outputs": [],
   "source": [
    "# Initialize empty list\n",
    "next_day_tasks = []\n",
    "\n",
    "# Add tasks to the list\n",
    "next_day_tasks = next_day_tasks + [\"Wake up\", \"Brush teeth\", \"Take a shower\", \"Eat breakfast\", \"Go to work\"]\n",
    "\n",
    "print(next_day_tasks)"
   ]
  },
  {
   "cell_type": "code",
   "execution_count": null,
   "metadata": {},
   "outputs": [],
   "source": [
    "next_day_tasks[0]"
   ]
  },
  {
   "cell_type": "code",
   "execution_count": null,
   "metadata": {},
   "outputs": [],
   "source": [
    "next_day_tasks[0] = \"Wake up early\"\n",
    "print(next_day_tasks)"
   ]
  },
  {
   "cell_type": "code",
   "execution_count": null,
   "metadata": {},
   "outputs": [],
   "source": [
    "next_day_tasks[0] == \"Wake up early\""
   ]
  },
  {
   "cell_type": "code",
   "execution_count": null,
   "metadata": {},
   "outputs": [],
   "source": [
    "next_day_tasks[0] in next_day_tasks"
   ]
  },
  {
   "cell_type": "code",
   "execution_count": null,
   "metadata": {},
   "outputs": [],
   "source": [
    "next_day_tasks.insert(5, \"Go to gym\")\n",
    "print(next_day_tasks)"
   ]
  },
  {
   "cell_type": "markdown",
   "metadata": {},
   "source": [
    "# **Lists: Taking slices out of them**"
   ]
  },
  {
   "cell_type": "code",
   "execution_count": null,
   "metadata": {},
   "outputs": [],
   "source": [
    "cities = [\"Lahore\", \"Karachi\", \"Mirpur\", \"Neelum\", \"Hyderabad\", \"Islamabad\", \"Rawalpindi\", \"Quetta\", \"Peshawar\", \"Faisalabad\"]\n",
    "\n",
    "cities_subset = cities[0:5]\n",
    "print(cities_subset)"
   ]
  },
  {
   "cell_type": "code",
   "execution_count": null,
   "metadata": {},
   "outputs": [],
   "source": [
    "cities = [\"Lahore\", \"Karachi\", \"Mirpur\", \"Neelum\", \"Hyderabad\", \"Islamabad\", \"Rawalpindi\", \"Quetta\", \"Peshawar\", \"Faisalabad\"]\n",
    "\n",
    "cities_subset = cities[:5]\n",
    "print(cities_subset)"
   ]
  },
  {
   "cell_type": "code",
   "execution_count": null,
   "metadata": {},
   "outputs": [],
   "source": [
    "cities = [\"Lahore\", \"Karachi\", \"Mirpur\", \"Neelum\", \"Hyderabad\", \"Islamabad\", \"Rawalpindi\", \"Quetta\", \"Peshawar\", \"Faisalabad\"]\n",
    "\n",
    "cities_subset = cities[3:5]\n",
    "print(cities_subset)"
   ]
  },
  {
   "cell_type": "code",
   "execution_count": null,
   "metadata": {},
   "outputs": [],
   "source": [
    "cities = [\"Lahore\", \"Karachi\", \"Mirpur\", \"Neelum\", \"Hyderabad\", \"Islamabad\", \"Rawalpindi\", \"Quetta\", \"Peshawar\", \"Faisalabad\"]\n",
    "\n",
    "cities_subset = cities[2:]\n",
    "print(cities_subset)"
   ]
  },
  {
   "cell_type": "markdown",
   "metadata": {},
   "source": [
    "# **Lists: Deleting and removing elements**"
   ]
  },
  {
   "cell_type": "code",
   "execution_count": null,
   "metadata": {},
   "outputs": [],
   "source": [
    "cities = [\"Lahore\", \"Karachi\", \"Mirpur\", \"Neelum\", \"Hyderabad\", \"Islamabad\", \"Rawalpindi\", \"Quetta\", \"Peshawar\", \"Faisalabad\"]\n",
    "\n",
    "cities.remove(\"Peshawar\")\n",
    "print(cities)"
   ]
  },
  {
   "cell_type": "code",
   "execution_count": null,
   "metadata": {},
   "outputs": [],
   "source": [
    "del cities[8]\n",
    "print(cities)"
   ]
  },
  {
   "cell_type": "markdown",
   "metadata": {},
   "source": [
    "# **Lists: popping elements**"
   ]
  },
  {
   "cell_type": "code",
   "execution_count": null,
   "metadata": {},
   "outputs": [],
   "source": [
    "cities = [\"Lahore\", \"Karachi\", \"Mirpur\", \"Neelum\", \"Hyderabad\", \"Islamabad\", \"Rawalpindi\", \"Quetta\", \"Peshawar\", \"Faisalabad\"]\n",
    "\n",
    "new_cities = [cities.pop(7)]\n",
    "print(cities)\n",
    "print(new_cities)"
   ]
  },
  {
   "cell_type": "code",
   "execution_count": null,
   "metadata": {},
   "outputs": [],
   "source": [
    "new_cities.append(cities.pop(4))\n",
    "print(cities)\n",
    "print(new_cities)"
   ]
  },
  {
   "cell_type": "code",
   "execution_count": null,
   "metadata": {},
   "outputs": [],
   "source": [
    "new_cities.insert(3, cities.pop(4))\n",
    "print(cities)\n",
    "print(new_cities)"
   ]
  },
  {
   "cell_type": "code",
   "execution_count": null,
   "metadata": {},
   "outputs": [],
   "source": [
    "cities.pop() # pop last element\n",
    "print(cities)\n",
    "print(new_cities)"
   ]
  },
  {
   "cell_type": "markdown",
   "metadata": {},
   "source": [
    "# **Tuples**"
   ]
  },
  {
   "cell_type": "code",
   "execution_count": null,
   "metadata": {},
   "outputs": [],
   "source": [
    "# create a tuple\n",
    "\n",
    "fruits = (\"apple\", \"banana\", \"cherry\", \"date\", \"elderberry\", \"fig\", \"grape\", \"honeydew\", \"kiwi\", \"lemon\")\n",
    "print(fruits)\n"
   ]
  },
  {
   "cell_type": "code",
   "execution_count": null,
   "metadata": {},
   "outputs": [],
   "source": [
    "# perform different operations on tuple\n",
    "fruits[0]"
   ]
  },
  {
   "cell_type": "code",
   "execution_count": null,
   "metadata": {},
   "outputs": [],
   "source": [
    "type(fruits)"
   ]
  },
  {
   "cell_type": "markdown",
   "metadata": {},
   "source": [
    "# **for loops**"
   ]
  },
  {
   "cell_type": "code",
   "execution_count": null,
   "metadata": {},
   "outputs": [],
   "source": [
    "# create a list of muslim nation-states\n",
    "\n",
    "muslim_states = [\"Saudi Arabia\", \"Iraq\", \"Yemen\", \"Syria\", \"Egypt\", \"Lebanon\"]\n",
    "\n",
    "state_to_check = \"Saudi Arabia\"\n",
    "\n",
    "if state_to_check.title() == muslim_states[0]:\n",
    "    print(\"The state is in the list\")\n",
    "elif state_to_check.title() == muslim_states[1]:\n",
    "    print(\"The state is in the list\")\n",
    "elif state_to_check.title() == muslim_states[2]:\n",
    "    print(\"The state is in the list\")\n",
    "elif state_to_check.title() == muslim_states[3]:\n",
    "    print(\"The state is in the list\")\n",
    "elif state_to_check.title() == muslim_states[4]:\n",
    "    print(\"The state is in the list\")\n",
    "elif state_to_check.title() == muslim_states[5]:\n",
    "    print(\"The state is in the list\")\n",
    "else:\n",
    "    print(\"The state is not in the list.\")\n"
   ]
  },
  {
   "cell_type": "code",
   "execution_count": null,
   "metadata": {},
   "outputs": [],
   "source": [
    "# create a list of muslim nation-states\n",
    "\n",
    "muslim_states = [\"Saudi Arabia\", \"Iraq\", \"Yemen\", \"Syria\", \"Egypt\", \"Lebanon\"]\n",
    "\n",
    "state_to_check = input(\"Enter name of state..\")\n",
    "\n",
    "if state_to_check.title() == muslim_states[0]:\n",
    "    print(\"The state is in the list\")\n",
    "elif state_to_check.title() == muslim_states[1]:\n",
    "    print(\"The state is in the list\")\n",
    "elif state_to_check.title() == muslim_states[2]:\n",
    "    print(\"The state is in the list\")\n",
    "elif state_to_check.title() == muslim_states[3]:\n",
    "    print(\"The state is in the list\")\n",
    "elif state_to_check.title() == muslim_states[4]:\n",
    "    print(\"The state is in the list\")\n",
    "elif state_to_check.title() == muslim_states[5]:\n",
    "    print(\"The state is in the list\")\n",
    "else:\n",
    "    print(\"The state is not in the list.\")\n"
   ]
  },
  {
   "cell_type": "code",
   "execution_count": null,
   "metadata": {},
   "outputs": [],
   "source": [
    "muslim_states = [\"Saudi Arabia\", \"Iraq\", \"Yemen\", \"UAE\", \"Syria\", \"Egypt\", \"Lebanon\"]\n",
    "\n",
    "state_to_check = input(\"Enter the state: \").title()  # Ensures correct capitalization\n",
    "\n",
    "found = False  # A flag to track if the state is found\n",
    "\n",
    "for state in muslim_states:\n",
    "    if state_to_check == state:\n",
    "        print(f\"The state is {state}.\")\n",
    "        found = True\n",
    "        break  # Exit loop once a match is found\n",
    "\n",
    "if not found:\n",
    "    print(\"The state is not in the list.\")\n"
   ]
  },
  {
   "cell_type": "code",
   "execution_count": null,
   "metadata": {},
   "outputs": [],
   "source": [
    "muslim_states = [\"Saudi Arabia\", \"Iraq\", \"Yemen\", \"UAE\", \"Syria\", \"Egypt\", \"Lebanon\", \"Yemen\"]  # Yemen appears twice for testing\n",
    "\n",
    "state_to_check = input(\"Enter the state: \").title()  # Standardizing capitalization\n",
    "\n",
    "matched_states = []  # List to store matched states\n",
    "\n",
    "for state in muslim_states:\n",
    "    if state_to_check == state:\n",
    "        matched_states.append(state)  # Store matched state\n",
    "\n",
    "if matched_states:  # If matches were found\n",
    "    print(f\"The state '{state_to_check}' was found {len(matched_states)} times in the list.\")\n",
    "else:\n",
    "    print(\"The state is not in the list.\")\n"
   ]
  },
  {
   "cell_type": "code",
   "execution_count": null,
   "metadata": {},
   "outputs": [],
   "source": [
    "muslim_states = [\n",
    "    [\"Saudi Arabia\", \"Iraq\", \"Yemen\"],  # Group 1\n",
    "    [\"UAE\", \"Syria\", \"Egypt\"],          # Group 2\n",
    "    [\"Lebanon\"]                         # Group 3\n",
    "]\n",
    "\n",
    "state_to_check = input(\"Enter the state: \").title()  # Ensures correct capitalization\n",
    "\n",
    "found = False  # A flag to track if the state is found\n",
    "matched_states = []\n",
    "\n",
    "for group in muslim_states:  # Outer loop for each group\n",
    "    for state in group:  # Inner loop for each state in the group\n",
    "        if state_to_check == state:\n",
    "            matched_states.append(state)\n",
    "            print(f\"The state is {state}.\")\n",
    "            found = True\n",
    "            break  # Exit inner loop once a match is found\n",
    "    if found:\n",
    "        print(f\"The state '{state_to_check}' was found {len(matched_states)} times in the list.\")\n",
    "        break  # Exit outer loop as well\n",
    "\n",
    "if not found:\n",
    "    print(\"The state is not in the list.\")"
   ]
  },
  {
   "cell_type": "markdown",
   "metadata": {},
   "source": [
    "# **Dictionaries**"
   ]
  },
  {
   "cell_type": "code",
   "execution_count": null,
   "metadata": {},
   "outputs": [],
   "source": [
    "#set\n",
    "name = {\"Python\", \"Javascript\", \"FastAPI\", \"Flask\"}\n",
    "print(name)"
   ]
  },
  {
   "cell_type": "code",
   "execution_count": null,
   "metadata": {},
   "outputs": [],
   "source": [
    "type(name)"
   ]
  },
  {
   "cell_type": "code",
   "execution_count": null,
   "metadata": {},
   "outputs": [],
   "source": [
    "#dictionary\n",
    "customer_info = {\"Name\": \"Farhan\", \"Designation\":\"Data Scientist\", \"Address\": 'Pakistan'}\n",
    "print(customer_info)"
   ]
  },
  {
   "cell_type": "code",
   "execution_count": null,
   "metadata": {},
   "outputs": [],
   "source": [
    "type(customer_info)"
   ]
  },
  {
   "cell_type": "markdown",
   "metadata": {},
   "source": [
    "# **Dictionaries: How to pick information out of them**"
   ]
  },
  {
   "cell_type": "code",
   "execution_count": null,
   "metadata": {},
   "outputs": [],
   "source": [
    "customer_info = {\"Name\": \"Farhan\", \"Designation\":\"Data Scientist\", \"Address\": 'Pakistan'}\n",
    "\n",
    "check_info = customer_info[\"Name\"]\n",
    "print(check_info)"
   ]
  },
  {
   "cell_type": "code",
   "execution_count": null,
   "metadata": {},
   "outputs": [],
   "source": [
    "rankings = {5: \"Finland\", 2: \"Norway\", 3: \"Sweden\", 7: \"Iceland\"}\n",
    "second_ranking_country = rankings[2]\n",
    "print(second_ranking_country)"
   ]
  },
  {
   "cell_type": "markdown",
   "metadata": {},
   "source": [
    "# **Dictionaries: Adding items**"
   ]
  },
  {
   "cell_type": "code",
   "execution_count": null,
   "metadata": {},
   "outputs": [],
   "source": [
    "things_to_remember = {}\n",
    "\n",
    "things_to_remember[0] = \"the lowest number\"\n",
    "things_to_remember[\"a dozen\"] = 12\n",
    "\n",
    "print(things_to_remember)"
   ]
  },
  {
   "cell_type": "code",
   "execution_count": null,
   "metadata": {},
   "outputs": [],
   "source": [
    "del things_to_remember[0]\n",
    "print(things_to_remember)"
   ]
  },
  {
   "cell_type": "code",
   "execution_count": null,
   "metadata": {},
   "outputs": [],
   "source": [
    "things_to_remember[\"half century\"] = 50\n",
    "print(things_to_remember)"
   ]
  },
  {
   "cell_type": "code",
   "execution_count": null,
   "metadata": {},
   "outputs": [],
   "source": [
    "things_to_remember[\"half century\"] = 100\n",
    "print(things_to_remember)"
   ]
  },
  {
   "cell_type": "code",
   "execution_count": null,
   "metadata": {},
   "outputs": [],
   "source": [
    "for key in things_to_remember:\n",
    "    print(key)"
   ]
  },
  {
   "cell_type": "code",
   "execution_count": null,
   "metadata": {},
   "outputs": [],
   "source": [
    "for key in things_to_remember.keys():\n",
    "    print(key)"
   ]
  },
  {
   "cell_type": "code",
   "execution_count": null,
   "metadata": {},
   "outputs": [],
   "source": [
    "for key in things_to_remember.values():\n",
    "    print(key)"
   ]
  },
  {
   "cell_type": "code",
   "execution_count": null,
   "metadata": {},
   "outputs": [],
   "source": [
    "for keys,values in things_to_remember.items():\n",
    "    print(keys,values)"
   ]
  },
  {
   "cell_type": "markdown",
   "metadata": {},
   "source": [
    "# **Creating a list of dictionaries**"
   ]
  },
  {
   "cell_type": "code",
   "execution_count": null,
   "metadata": {},
   "outputs": [],
   "source": [
    "# create a list of dictionaries\n",
    "\n",
    "customers = [\n",
    "    {\"Name\": \"Farhan\", \"Designation\": \"Data Scientist\", \"Address\": \"Pakistan\"},\n",
    "    {\"Name\": \"Ali\", \"Designation\": \"Software Engineer\", \"Address\": \"Pakistan\"},\n",
    "    {\"Name\": \"Ahmed\", \"Designation\": \"Data Analyst\", \"Address\": \"Pakistan\"}\n",
    "]\n",
    "\n",
    "print(customers)"
   ]
  },
  {
   "cell_type": "markdown",
   "metadata": {},
   "source": [
    "# **How to pick information out of a list of dictionaries**"
   ]
  },
  {
   "cell_type": "code",
   "execution_count": null,
   "metadata": {},
   "outputs": [],
   "source": [
    "\n",
    "customers = [\n",
    "    {\"Name\": \"Farhan\", \"Designation\": \"Data Scientist\", \"Address\": \"Pakistan\"},\n",
    "    {\"Name\": \"Ali\", \"Designation\": \"Software Engineer\", \"Address\": \"Pakistan\"},\n",
    "    {\"Name\": \"Ahmed\", \"Designation\": \"Data Analyst\", \"Address\": \"Pakistan\"}\n",
    "]\n",
    "\n",
    "# I want to pick the first customer from the list of customers and check its designation\n",
    "first_customer = customers[0]\n",
    "print(first_customer)\n",
    "designation = first_customer[\"Designation\"]\n",
    "print(designation)\n"
   ]
  },
  {
   "cell_type": "code",
   "execution_count": null,
   "metadata": {},
   "outputs": [],
   "source": [
    "\n",
    "customers = [\n",
    "    {\"Name\": \"Farhan\", \"Designation\": \"Data Scientist\", \"Address\": \"Pakistan\"},\n",
    "    {\"Name\": \"Ali\", \"Designation\": \"Software Engineer\", \"Address\": \"Pakistan\"},\n",
    "    {\"Name\": \"Ahmed\", \"Designation\": \"Data Analyst\", \"Address\": \"Pakistan\"}\n",
    "]\n",
    "\n",
    "# I want to pick the first customer from the list of customers and check its designation\n",
    "designation = customers[0][\"Designation\"]\n",
    "print(designation)\n"
   ]
  },
  {
   "cell_type": "code",
   "execution_count": null,
   "metadata": {},
   "outputs": [],
   "source": [
    "customers = [\n",
    "    {\"Name\": \"Farhan\", \"Designation\": \"Data Scientist\", \"Address\": \"Pakistan\"},\n",
    "    {\"Name\": \"Ali\", \"Designation\": \"Software Engineer\", \"Address\": \"Pakistan\"},\n",
    "    {\"Name\": \"Ahmed\", \"Designation\": \"Data Analyst\", \"Address\": \"Pakistan\"}\n",
    "]\n",
    "\n",
    "# I want to pick the first customer from the list of customers and check its name and designation\n",
    "first_customer = customers[0]\n",
    "print(first_customer)\n",
    "name = first_customer[\"Name\"]\n",
    "designation = first_customer[\"Designation\"]\n",
    "print(f\"The name of customer is {name} and its designation is {designation}.\")"
   ]
  },
  {
   "cell_type": "code",
   "execution_count": null,
   "metadata": {},
   "outputs": [],
   "source": [
    "len(customers)"
   ]
  },
  {
   "cell_type": "markdown",
   "metadata": {},
   "source": [
    "# **How to append a new dictionary to a list of dictionaries**"
   ]
  },
  {
   "cell_type": "code",
   "execution_count": null,
   "metadata": {},
   "outputs": [],
   "source": [
    "customers = [\n",
    "    {\"Name\": \"Farhan\", \"Designation\": \"Data Scientist\", \"Address\": \"Pakistan\"},\n",
    "    {\"Name\": \"Ali\", \"Designation\": \"Software Engineer\", \"Address\": \"Pakistan\"},\n",
    "    {\"Name\": \"Ahmed\", \"Designation\": \"Data Analyst\", \"Address\": \"Pakistan\"}\n",
    "]\n",
    "\n",
    "new_dictionary = {\"name\": \"Abu Bakr\", \"Designation\": \"Programmer\", \"address\": \"Pakistan\"}\n",
    "customers.append(new_dictionary)\n",
    "print(customers)"
   ]
  },
  {
   "cell_type": "code",
   "execution_count": null,
   "metadata": {},
   "outputs": [],
   "source": [
    "customers = [\n",
    "    {\"Name\": \"Farhan\", \"Designation\": \"Data Scientist\", \"Address\": \"Pakistan\"},\n",
    "    {\"Name\": \"Ali\", \"Designation\": \"Software Engineer\", \"Address\": \"Pakistan\"},\n",
    "    {\"Name\": \"Ahmed\", \"Designation\": \"Data Analyst\", \"Address\": \"Pakistan\"}\n",
    "]\n",
    "\n",
    "new_dictionary = {\"name\": \"Abu Bakr\", \"Designation\": \"Programmer\", \"address\": \"Pakistan\"}\n",
    "customers.remove(new_dictionary)\n",
    "print(customers)"
   ]
  },
  {
   "cell_type": "code",
   "execution_count": null,
   "metadata": {},
   "outputs": [],
   "source": [
    "customers = [\n",
    "    {\"Name\": \"Farhan\", \"Designation\": \"Data Scientist\", \"Address\": \"Pakistan\"},\n",
    "    {\"Name\": \"Ali\", \"Designation\": \"Software Engineer\", \"Address\": \"Pakistan\"},\n",
    "    {\"Name\": \"Ahmed\", \"Designation\": \"Data Analyst\", \"Address\": \"Pakistan\"}\n",
    "]\n",
    "\n",
    "new_dictionary = {\"name\": \"Abu Bakr\", \"Designation\": \"Programmer\", \"address\": \"Pakistan\"}\n",
    "customers.clear()\n",
    "print(customers)"
   ]
  },
  {
   "cell_type": "code",
   "execution_count": null,
   "metadata": {},
   "outputs": [],
   "source": [
    "customers = [\n",
    "    {\"Name\": \"Farhan\", \"Designation\": \"Data Scientist\", \"Address\": \"Pakistan\"},\n",
    "    {\"Name\": \"Ali\", \"Designation\": \"Software Engineer\", \"Address\": \"Pakistan\"},\n",
    "    {\"Name\": \"Ahmed\", \"Designation\": \"Data Analyst\", \"Address\": \"Pakistan\"}\n",
    "]\n",
    "\n",
    "new_dictionary = {\"name\": \"Abu Bakr\", \"Designation\": \"Programmer\", \"address\": \"Pakistan\"}\n",
    "customers.pop(0)\n",
    "print(customers)"
   ]
  },
  {
   "cell_type": "code",
   "execution_count": null,
   "metadata": {},
   "outputs": [],
   "source": [
    "customers = [\n",
    "    {\"Name\": \"Farhan\", \"Designation\": \"Data Scientist\", \"Address\": \"Pakistan\"},\n",
    "    {\"Name\": \"Ali\", \"Designation\": \"Software Engineer\", \"Address\": \"Pakistan\"},\n",
    "    {\"Name\": \"Ahmed\", \"Designation\": \"Data Analyst\", \"Address\": \"Pakistan\"}\n",
    "]\n",
    "\n",
    "new_dictionary = {\"name\": \"Abu Bakr\", \"Designation\": \"Programmer\", \"address\": \"Pakistan\"}\n",
    "new_dict = customers.copy()\n",
    "print(new_dict)"
   ]
  },
  {
   "cell_type": "code",
   "execution_count": null,
   "metadata": {},
   "outputs": [],
   "source": [
    "customers = [\n",
    "    {\"Name\": \"Farhan\", \"Designation\": \"Data Scientist\", \"Address\": \"Pakistan\"},\n",
    "    {\"Name\": \"Ali\", \"Designation\": \"Software Engineer\", \"Address\": \"Pakistan\"},\n",
    "    {\"Name\": \"Ahmed\", \"Designation\": \"Data Analyst\", \"Address\": \"Pakistan\"}\n",
    "]\n",
    "\n",
    "customers.count(new_dictionary)  # 0, because no exact match occurs"
   ]
  },
  {
   "cell_type": "code",
   "execution_count": null,
   "metadata": {},
   "outputs": [],
   "source": [
    "customers = [\n",
    "    {\"Name\": \"Farhan\", \"Designation\": \"Data Scientist\", \"Address\": \"Pakistan\"},\n",
    "    {\"Name\": \"Ali\", \"Designation\": \"Software Engineer\", \"Address\": \"Pakistan\"},\n",
    "    {\"Name\": \"Ahmed\", \"Designation\": \"Data Analyst\", \"Address\": \"Pakistan\"}\n",
    "]\n",
    "\n",
    "new_dictionary = {\"Name\": \"Farhan\", \"Designation\": \"Data Scientist\", \"Address\": \"Pakistan\"}\n",
    "\n",
    "print(customers.count(new_dictionary))  # Output: 1 (only if an exact match exists)\n"
   ]
  },
  {
   "cell_type": "code",
   "execution_count": null,
   "metadata": {},
   "outputs": [],
   "source": [
    "customers = [\n",
    "    {\"Name\": \"Farhan\", \"Designation\": \"Data Scientist\", \"Address\": \"Pakistan\"},\n",
    "    {\"Name\": \"Ali\", \"Designation\": \"Software Engineer\", \"Address\": \"Pakistan\"},\n",
    "    {\"Name\": \"Ahmed\", \"Designation\": \"Data Analyst\", \"Address\": \"Pakistan\"}\n",
    "]\n",
    "\n",
    "pakistani_customers = sum(1 for customer in customers if customer[\"Address\"] == \"Pakistan\")\n",
    "no_of_data_scientists = sum(1 for customer in customers if customer[\"Designation\"] == \"Data Scientist\")\n",
    "print(pakistani_customers)\n",
    "print(no_of_data_scientists)\n"
   ]
  },
  {
   "cell_type": "markdown",
   "metadata": {},
   "source": [
    "# **Creating a dictionary that contains lists**"
   ]
  },
  {
   "cell_type": "code",
   "execution_count": null,
   "metadata": {},
   "outputs": [],
   "source": [
    "# create a dictionary that contains list\n",
    "customers = [\n",
    "    {\"Name\": \"Farhan\", \"Designation\": \"Data Scientist\", \"Address\": \"Pakistan\"},\n",
    "    {\"Name\": \"Ali\", \"Designation\": \"Software Engineer\", \"Address\": \"Pakistan\"},\n",
    "    {\"Name\": \"Ahmed\", \"Designation\": [\"Data Analyst\", \"Programmer\"], \"Address\": \"Pakistan\"}\n",
    "]\n",
    "\n",
    "print(customers)"
   ]
  },
  {
   "cell_type": "code",
   "execution_count": null,
   "metadata": {},
   "outputs": [],
   "source": [
    "# How to get information out of a list within a dictionary\n",
    "designation = customers[2][\"Designation\"]\n",
    "print(designation)\n",
    "\n",
    "# How to get information out of a list within a dictionary using in keyword\n",
    "if \"Data Analyst\" in customers[2][\"Designation\"]:\n",
    "    print(\"Data Analyst is in the list.\")\n",
    "\n",
    "# How to get information out of a list within a dictionary using for loop\n",
    "for designation in customers[2][\"Designation\"]:\n",
    "    print(designation)"
   ]
  },
  {
   "cell_type": "markdown",
   "metadata": {},
   "source": [
    "# **Creating a dictionary that contains a dictionary**"
   ]
  },
  {
   "cell_type": "code",
   "execution_count": null,
   "metadata": {},
   "outputs": [],
   "source": [
    "# Creating a dictionary that contains a dictionary\n",
    "\n",
    "customers = {\n",
    "    \"customer_1\": {\"Name\": \"Farhan\", \"Designation\": \"Data Scientist\", \"Address\": \"Pakistan\"},\n",
    "    \"customer_2\": {\"Name\": \"Ali\", \"Designation\": \"Software Engineer\", \"Address\": \"Pakistan\"},\n",
    "    \"customer_3\": {\"Name\": \"Ahmed\", \"Designation\": \"Data Analyst\", \"Address\": \"Pakistan\"}\n",
    "}\n",
    "\n",
    "print(customers)"
   ]
  },
  {
   "cell_type": "code",
   "execution_count": null,
   "metadata": {},
   "outputs": [],
   "source": [
    "# How to get information out of a dictionary within another dictionary\n",
    "designation = customers[\"customer_3\"][\"Designation\"]\n",
    "print(designation)\n",
    "\n",
    "# How to get information out of a dictionary within another dictionary using for loop\n",
    "for key, value in customers[\"customer_3\"].items():\n",
    "    print(key, value)\n",
    "\n",
    "# How to get information out of a dictionary within another dictionary using in keyword\n",
    "if \"Data Analyst\" in customers[\"customer_3\"][\"Designation\"]:\n",
    "    print(\"Data Analyst is in the list.\")"
   ]
  },
  {
   "cell_type": "code",
   "execution_count": null,
   "metadata": {},
   "outputs": [],
   "source": [
    "# Creating a dictionary that contains a dictionary and list within dictionary\n",
    "\n",
    "customers = {\n",
    "    \"customer_1\": {\"Name\": \"Farhan\", \"Designation\": \"Data Scientist\", \"Address\": \"Pakistan\"},\n",
    "    \"customer_2\": {\"Name\": \"Ali\", \"Designation\": \"Software Engineer\", \"Address\": \"Pakistan\"},\n",
    "    \"customer_3\": {\"Name\": \"Ahmed\", \"Designation\": [\"Data Analyst\", \"Programmer\"], \"Address\": \"Pakistan\"}\n",
    "}\n",
    "\n",
    "print(customers)"
   ]
  },
  {
   "cell_type": "code",
   "execution_count": null,
   "metadata": {},
   "outputs": [],
   "source": [
    "# How to get information out of a dictionary within another dictionary\n",
    "designation = customers[\"customer_3\"][\"Designation\"]\n",
    "print(designation)\n",
    "\n",
    "# How to get information out of a list within a dictionary using in keyword\n",
    "if \"Data Analyst\" in customers[\"customer_3\"][\"Designation\"]:\n",
    "    print(\"Data Analyst is in the list.\")\n",
    "\n",
    "# How to get information out of a list within a dictionary using for loop\n",
    "for designation in customers[\"customer_3\"][\"Designation\"]:\n",
    "    print(designation)"
   ]
  },
  {
   "cell_type": "markdown",
   "metadata": {},
   "source": [
    "# **Functions**"
   ]
  },
  {
   "cell_type": "code",
   "execution_count": null,
   "metadata": {},
   "outputs": [],
   "source": [
    "first_number = 10\n",
    "second_number = 20\n",
    "\n",
    "def add_numbers():\n",
    "    return first_number + second_number\n",
    "\n",
    "result = add_numbers()\n",
    "print(result)"
   ]
  },
  {
   "cell_type": "code",
   "execution_count": null,
   "metadata": {},
   "outputs": [],
   "source": [
    "first_number = 10\n",
    "second_number = 20\n",
    "\n",
    "def add_numbers():\n",
    "    total =  first_number + second_number\n",
    "    return total\n",
    "\n",
    "add_numbers()"
   ]
  },
  {
   "cell_type": "code",
   "execution_count": null,
   "metadata": {},
   "outputs": [],
   "source": [
    "first_number = 0  # Global variable\n",
    "second_number = 0 # Global variable\n",
    "\n",
    "def add_numbers():\n",
    "    first_number = 10 # Local variable\n",
    "    second_number = 20 # Local variable\n",
    "    total =  first_number + second_number\n",
    "    return total\n",
    "\n",
    "add_numbers()"
   ]
  },
  {
   "cell_type": "markdown",
   "metadata": {},
   "source": [
    "# **Functions: Passing them information**"
   ]
  },
  {
   "cell_type": "code",
   "execution_count": null,
   "metadata": {},
   "outputs": [],
   "source": [
    "def add_numbers(first_number, second_number):\n",
    "    total =  first_number + second_number\n",
    "    return total\n",
    "\n",
    "add_numbers(10, 20)"
   ]
  },
  {
   "cell_type": "code",
   "execution_count": null,
   "metadata": {},
   "outputs": [],
   "source": [
    "def add_numbers(first_number, second_number):\n",
    "    total =  first_number + second_number\n",
    "    return total\n",
    "\n",
    "\n",
    "result = add_numbers(10, 20)\n",
    "print(result)"
   ]
  },
  {
   "cell_type": "code",
   "execution_count": null,
   "metadata": {},
   "outputs": [],
   "source": [
    "def add_numbers(first_number, second_number):\n",
    "    total =  first_number + second_number\n",
    "    return total\n",
    "\n",
    "first_number= int(input(\"Enter first number: \"))\n",
    "second_number = int(input(\"Enter second number: \"))\n",
    "\n",
    "add_numbers(first_number, second_number)"
   ]
  },
  {
   "cell_type": "markdown",
   "metadata": {},
   "source": [
    "# **Functions: Passing information to them a different way;  keyword arguments** "
   ]
  },
  {
   "cell_type": "code",
   "execution_count": null,
   "metadata": {},
   "outputs": [],
   "source": [
    "# keyword arguments\n",
    "def name(middle_name, last_name, first_name=\"Muhammad\"): # last_name is positional argument and first_name is keyword argument so order is important\n",
    "    return f\"Hello, {first_name} {middle_name} {last_name}!\"\n",
    "\n",
    "# take input from user\n",
    "middle_name = input(\"Enter your middle name: \")\n",
    "last_name = input(\"Enter your last name: \")\n",
    "\n",
    "# call the function\n",
    "name(middle_name, last_name)"
   ]
  },
  {
   "cell_type": "markdown",
   "metadata": {},
   "source": [
    "# **Functions: Assigning a default value to a parameter**"
   ]
  },
  {
   "cell_type": "code",
   "execution_count": null,
   "metadata": {},
   "outputs": [],
   "source": [
    "# make a function to calculate tax\n",
    "def calculate_tax(income, tax_rate):\n",
    "    tax = income * tax_rate\n",
    "    return tax\n",
    "\n",
    "# take input from user\n",
    "income = int(input(\"Enter your income: \"))\n",
    "tax_rate = float(input(\"Enter tax rate: \"))\n",
    "\n",
    "# call the function\n",
    "calculate_tax(income, tax_rate)"
   ]
  },
  {
   "cell_type": "code",
   "execution_count": null,
   "metadata": {},
   "outputs": [],
   "source": [
    "# Now if we have fixed tax rate then we can use keyword argument\n",
    "def calculate_tax(income, tax_rate=0.05):\n",
    "    tax = income * tax_rate\n",
    "    print(f\"Your tax on income ${income} is ${tax}.\")\n",
    "\n",
    "# take input from user\n",
    "income = int(input(\"Enter your income in $: \"))\n",
    "\n",
    "# call the function\n",
    "calculate_tax(income)"
   ]
  },
  {
   "cell_type": "markdown",
   "metadata": {},
   "source": [
    "# **Functions: Dealing with an unknown number of arguments**"
   ]
  },
  {
   "cell_type": "code",
   "execution_count": null,
   "metadata": {},
   "outputs": [],
   "source": [
    "# Functions: Dealing with an unknown number of arguments\n",
    "def add_numbers(num_1, num_2, *args):\n",
    "    total = num_1 + num_2\n",
    "    for num in args:\n",
    "        print(num)\n",
    "        total += num\n",
    "    return total\n",
    "\n",
    "add_numbers(10, 20, 30, 40, 50)"
   ]
  },
  {
   "cell_type": "code",
   "execution_count": null,
   "metadata": {},
   "outputs": [],
   "source": [
    "def create_customer(name, designation, address):\n",
    "    return {\"id_0\": {\"Name\": name, \"Designation\": designation, \"Address\": address}}\n",
    "\n",
    "customer = create_customer(\"Ahmed\", \"Data Scientist\", \"Pakistan\")\n",
    "print(customer)\n"
   ]
  },
  {
   "cell_type": "code",
   "execution_count": null,
   "metadata": {},
   "outputs": [],
   "source": [
    "for data in customer.values():\n",
    "    print(data)\n",
    "    # get designation\n",
    "    print(data[\"Designation\"])"
   ]
  },
  {
   "cell_type": "markdown",
   "metadata": {},
   "source": [
    "# **Assigning a Function to a Variable**"
   ]
  },
  {
   "cell_type": "code",
   "execution_count": null,
   "metadata": {},
   "outputs": [],
   "source": [
    "def greet(name):\n",
    "    return f\"Hello, {name}!\"\n",
    "\n",
    "say_hello = greet  # Assign function to a variable\n",
    "\n",
    "print(say_hello(\"Ali\"))  "
   ]
  },
  {
   "cell_type": "markdown",
   "metadata": {},
   "source": [
    "# **Passing a Function as an Argument**"
   ]
  },
  {
   "cell_type": "code",
   "execution_count": null,
   "metadata": {},
   "outputs": [],
   "source": [
    "def shout(text):\n",
    "    return text.upper()\n",
    "\n",
    "def whisper(text):\n",
    "    return text.lower()\n",
    "\n",
    "def greet_person(func, name):\n",
    "    return func(f\"Hello, {name}!\")\n",
    "\n",
    "print(greet_person(shout, \"Ahmed\"))  \n",
    "print(greet_person(whisper, \"Sara\"))  "
   ]
  },
  {
   "cell_type": "markdown",
   "metadata": {},
   "source": [
    "# **Returning a Function from Another Function**"
   ]
  },
  {
   "cell_type": "code",
   "execution_count": null,
   "metadata": {},
   "outputs": [],
   "source": [
    "def choose_greeting(style):\n",
    "    def formal(name):\n",
    "        return f\"Good evening, {name}.\"\n",
    "    \n",
    "    def casual(name):\n",
    "        return f\"Hey {name}, what's up?\"\n",
    "    \n",
    "    return formal if style == \"formal\" else casual\n",
    "\n",
    "greet = choose_greeting(\"formal\")\n",
    "print(greet(\"Ali\"))  "
   ]
  },
  {
   "cell_type": "markdown",
   "metadata": {},
   "source": [
    "# **Global Variables in Python**"
   ]
  },
  {
   "cell_type": "markdown",
   "metadata": {},
   "source": [
    "## **Local Variable (Inside a Function)**"
   ]
  },
  {
   "cell_type": "code",
   "execution_count": null,
   "metadata": {},
   "outputs": [],
   "source": [
    "def greet():\n",
    "    message = \"Hello, World!\"  # Local variable\n",
    "    print(message)\n",
    "\n",
    "greet()  # Output: Hello, World!\n",
    "print(message)  # NameError: name 'message' is not defined"
   ]
  },
  {
   "cell_type": "markdown",
   "metadata": {},
   "source": [
    "## **Global Variable (Outside Functions)**"
   ]
  },
  {
   "cell_type": "code",
   "execution_count": null,
   "metadata": {},
   "outputs": [],
   "source": [
    "message = \"Hello from Global!\"  # Global variable\n",
    "\n",
    "def greet():\n",
    "    print(message)  # Accessing the global variable inside the function\n",
    "\n",
    "greet()  \n",
    "print(\"Another\", message) "
   ]
  },
  {
   "cell_type": "markdown",
   "metadata": {},
   "source": [
    "## **Modifying Global Variables Inside a Function (Using global)**"
   ]
  },
  {
   "cell_type": "code",
   "execution_count": null,
   "metadata": {},
   "outputs": [],
   "source": [
    "counter = 10  # Global variable\n",
    "\n",
    "def update_counter():\n",
    "    global counter  # Declare that we are using the global variable\n",
    "    counter += 5  # Modify the global variable\n",
    "    print(f\"Inside function: {counter}\")\n",
    "\n",
    "update_counter()  \n",
    "print(f\"Outside function: {counter}\")  \n"
   ]
  },
  {
   "cell_type": "markdown",
   "metadata": {},
   "source": [
    "## **Local and Global Variables with the Same Name**"
   ]
  },
  {
   "cell_type": "code",
   "execution_count": null,
   "metadata": {},
   "outputs": [],
   "source": [
    "message = \"Global Message\"  # Global variable\n",
    "\n",
    "def greet():\n",
    "    message = \"Local Message\"  # Local variable with the same name\n",
    "    print(f\"Inside function: {message}\")\n",
    "\n",
    "greet()  \n",
    "print(f\"Outside function: {message}\")  \n"
   ]
  },
  {
   "cell_type": "markdown",
   "metadata": {},
   "source": [
    "## **Functions Within Functions (Nested Functions) in Python**"
   ]
  },
  {
   "cell_type": "code",
   "execution_count": null,
   "metadata": {},
   "outputs": [],
   "source": [
    "# Basic Nested Function\n",
    "def outer_function():\n",
    "    print(\"This is the outer function.\")\n",
    "\n",
    "    def inner_function():\n",
    "        print(\"This is the inner function.\")\n",
    "\n",
    "    inner_function()  # Calling inner function inside the outer function\n",
    "\n",
    "outer_function()\n",
    "\n",
    "# inner_function()  # This would cause an error since it's not accessible outside"
   ]
  },
  {
   "cell_type": "code",
   "execution_count": null,
   "metadata": {},
   "outputs": [],
   "source": [
    "# Returning an Inner Function\n",
    "def greet_generator(name):\n",
    "    def say_hello():\n",
    "        return f\"Hello, {name}!\"\n",
    "    \n",
    "    return say_hello  # Returning the inner function\n",
    "\n",
    "greet = greet_generator(\"Ali\")  # Storing the returned function\n",
    "print(greet())  # Calling the returned function\n"
   ]
  },
  {
   "cell_type": "code",
   "execution_count": null,
   "metadata": {},
   "outputs": [],
   "source": [
    "# Using Nested Functions for Calculations\n",
    "def math_operations(a, b):\n",
    "    def add():\n",
    "        return a + b\n",
    "\n",
    "    def multiply():\n",
    "        return a * b\n",
    "\n",
    "    return add(), multiply()  # Calling inner functions\n",
    "\n",
    "sum_result, product_result = math_operations(5, 3)\n",
    "print(f\"Sum: {sum_result}, Product: {product_result}\")\n"
   ]
  },
  {
   "cell_type": "code",
   "execution_count": null,
   "metadata": {},
   "outputs": [],
   "source": [
    "# Closures (Inner Functions Remembering Variables)\n",
    "\n",
    "def power_function(exp):\n",
    "    def power(base):\n",
    "        return base ** exp  # Using 'exp' from the outer function\n",
    "\n",
    "    return power  # Returning the inner function\n",
    "\n",
    "square = power_function(2)  # Creates a function for squaring\n",
    "cube = power_function(3)  # Creates a function for cubing\n",
    "\n",
    "print(square(4))  \n",
    "print(cube(2))   "
   ]
  },
  {
   "cell_type": "code",
   "execution_count": null,
   "metadata": {},
   "outputs": [],
   "source": [
    "# Using Nested Functions with Decorators\n",
    "\n",
    "def uppercase_decorator(func):\n",
    "    def wrapper():\n",
    "        result = func()\n",
    "        return result.upper()  # Modify the output of the original function\n",
    "    return wrapper  # Return the inner function\n",
    "\n",
    "@uppercase_decorator  # Applying the decorator  # The @uppercase_decorator syntax is a shortcut for: greet = uppercase_decorator(greet)\n",
    "def greet():\n",
    "    return \"hello, world!\"\n",
    "\n",
    "print(greet())  \n"
   ]
  },
  {
   "cell_type": "code",
   "execution_count": null,
   "metadata": {},
   "outputs": [],
   "source": [
    "# Function Factory (Generating Functions Dynamically)\n",
    "\n",
    "def multiplier_factory(n):\n",
    "    def multiplier(x):\n",
    "        return x * n  # Uses 'n' from the outer function\n",
    "    return multiplier  # Returning the customized function\n",
    "\n",
    "double = multiplier_factory(2)  # Creates a function that multiplies by 2\n",
    "triple = multiplier_factory(3)  # Creates a function that multiplies by 3\n",
    "\n",
    "print(double(5))  \n",
    "print(triple(5))  \n"
   ]
  },
  {
   "cell_type": "code",
   "execution_count": null,
   "metadata": {},
   "outputs": [],
   "source": [
    "# Recursion with Nested Functions (Factorial Calculation)\n",
    "# Recursion means a function calls itself to solve smaller subproblems.\n",
    "\n",
    "def factorial(n):\n",
    "    def inner_fact(x):\n",
    "        if x == 1:\n",
    "            return 1\n",
    "        return x * inner_fact(x - 1)  # Recursively call itself\n",
    "\n",
    "    return inner_fact(n)  # Call the inner function\n",
    "\n",
    "print(factorial(5)) \n"
   ]
  },
  {
   "cell_type": "code",
   "execution_count": null,
   "metadata": {},
   "outputs": [],
   "source": [
    "# Protecting Data with nested functions to encapsulate logic and prevent direct modification of data.\n",
    "\n",
    "def bank_account(initial_balance):\n",
    "    balance = initial_balance  # Private variable\n",
    "\n",
    "    def deposit(amount):\n",
    "        nonlocal balance  # Access outer function's variable\n",
    "        balance += amount\n",
    "        return balance\n",
    "\n",
    "    def withdraw(amount):\n",
    "        nonlocal balance\n",
    "        if amount > balance:\n",
    "            return \"Insufficient funds\"\n",
    "        balance -= amount\n",
    "        return balance\n",
    "\n",
    "    return deposit, withdraw  # Returning both inner functions\n",
    "\n",
    "deposit_money, withdraw_money = bank_account(1000)\n",
    "\n",
    "print(deposit_money(500))  \n",
    "print(withdraw_money(200))  \n",
    "print(withdraw_money(2000)) \n"
   ]
  },
  {
   "cell_type": "code",
   "execution_count": null,
   "metadata": {},
   "outputs": [],
   "source": [
    "# Protecting Data with nested functions to encapsulate logic and prevent direct modification of data.\n",
    "\n",
    "def bank_account(initial_balance):\n",
    "    balance = initial_balance  # Private variable\n",
    "\n",
    "    def deposit_money(amount):\n",
    "        nonlocal balance  # Access outer function's variable\n",
    "        balance += amount   # Deposit money\n",
    "        return balance\n",
    "    \n",
    "    def withdraw_money(amount):\n",
    "        nonlocal balance\n",
    "        if amount > balance:\n",
    "            return \"Insufficient funds. Your balance is $\" + str(balance) + \". You can only withdraw up to $\" + str(balance) + \".\"\n",
    "        else:\n",
    "            balance -= amount\n",
    "            return balance\n",
    "    \n",
    "    return deposit_money, withdraw_money  # Returning both inner functions\n",
    "\n",
    "deposit_money, withdraw_money = bank_account(1000)   # Assigning inner functions to variables\n",
    "print(deposit_money(500))  \n",
    "print(withdraw_money(200))  \n",
    "print(withdraw_money(2000))  "
   ]
  },
  {
   "cell_type": "markdown",
   "metadata": {},
   "source": [
    "# **While Loop**"
   ]
  },
  {
   "cell_type": "code",
   "execution_count": null,
   "metadata": {},
   "outputs": [],
   "source": [
    "# Basic while loop\n",
    "\n",
    "count = 1\n",
    "\n",
    "while count <= 10:\n",
    "    print(\"Count\", count)\n",
    "    count += 1 # Increment the counter"
   ]
  },
  {
   "cell_type": "code",
   "execution_count": null,
   "metadata": {},
   "outputs": [],
   "source": [
    "# while Loop with break (Exiting Early)\n",
    "\n",
    "num = 1\n",
    "\n",
    "while num < 10:\n",
    "    if num == 5:\n",
    "        print(\"Breaking the loop at 5\")\n",
    "        break  # Stops the loop\n",
    "    print(num)\n",
    "    num += 1\n"
   ]
  },
  {
   "cell_type": "code",
   "execution_count": null,
   "metadata": {},
   "outputs": [],
   "source": [
    "# while Loop with continue (Skipping an Iteration)\n",
    "\n",
    "num = 0\n",
    "\n",
    "while num < 5:\n",
    "    num += 1\n",
    "    if num == 3:\n",
    "        print(\"Skipping 3\")\n",
    "        continue  # Skips the rest of the code and starts the next iteration\n",
    "    print(f\"Number: {num}\")\n"
   ]
  },
  {
   "cell_type": "code",
   "execution_count": null,
   "metadata": {},
   "outputs": [],
   "source": [
    "# Using while for Input Validation\n",
    "\n",
    "while True:\n",
    "    password = input(\"Enter the password: \")\n",
    "    if password == \"python123\":\n",
    "        print(\"Access granted!\")\n",
    "        break  # Exit loop when correct password is entered\n",
    "    print(\"Incorrect password. Try again!\")\n"
   ]
  },
  {
   "cell_type": "code",
   "execution_count": null,
   "metadata": {},
   "outputs": [],
   "source": [
    "# while with a Counter and Else Statement\n",
    "\n",
    "num = 1\n",
    "\n",
    "while num <= 3:\n",
    "    print(num)\n",
    "    num += 1\n",
    "else:\n",
    "    print(\"Loop finished successfully!\")\n"
   ]
  },
  {
   "cell_type": "code",
   "execution_count": null,
   "metadata": {},
   "outputs": [],
   "source": [
    "# Infinite while Loop (Be Careful!)\n",
    "\n",
    "while True:\n",
    "    print(\"This will run forever! Press Ctrl+C to stop.\")"
   ]
  },
  {
   "cell_type": "code",
   "execution_count": null,
   "metadata": {},
   "outputs": [],
   "source": [
    "import random\n",
    "\n",
    "# Generate a random number between 1 and 10\n",
    "secret_number = random.randint(1, 10)\n",
    "\n",
    "attempts = 0  # Track the number of attempts\n",
    "reward = 0  # Track the prize money\n",
    "\n",
    "print(\" Welcome to the Number Guessing Game!\")\n",
    "print(\"I have chosen a number between 1 and 10. Can you guess it?\")\n",
    "print(\"If you guess it in 2 attempts or less, you win $1!\")\n",
    "\n",
    "while True:\n",
    "    guess = input(\"Enter your guess: \")\n",
    "    \n",
    "    if not guess.isdigit():  # Ensure input is a number\n",
    "        print(\"Please enter a valid number.\")\n",
    "        continue\n",
    "    \n",
    "    guess = int(guess)  # Convert input to an integer\n",
    "    attempts += 1  # Count the attempt\n",
    "    \n",
    "    if guess < secret_number:\n",
    "        print(\"Too low! Try again.\")\n",
    "    elif guess > secret_number:\n",
    "        print(\"Too high! Try again.\")\n",
    "    else:\n",
    "        print(f\"🎉 Correct! The number was {secret_number}. You guessed it in {attempts} attempts!\")\n",
    "        \n",
    "        # Check if user guessed correctly in 2 attempts or less\n",
    "        if attempts <= 2:\n",
    "            reward = 1  # Player wins $1\n",
    "            print(\"Congratulations! You won $1!\")\n",
    "        else:\n",
    "            print(\"Good job, but no prize this time!\")\n",
    "\n",
    "        break  # Exit the loop\n",
    "\n",
    "print(f\"Your total winnings: ${reward}\")"
   ]
  },
  {
   "cell_type": "markdown",
   "metadata": {},
   "source": [
    "# **OOP**\n",
    "\n",
    "* Class → A blueprint for creating objects.\n",
    "* Object → An instance of a class.\n",
    "* Methods → Functions inside a class.\n",
    "* Inheritance → Allows reuse of existing class code.\n",
    "* Encapsulation → Hides data to protect it."
   ]
  },
  {
   "cell_type": "code",
   "execution_count": null,
   "metadata": {},
   "outputs": [],
   "source": [
    "class Patient():\n",
    "    def __init__(self, patient_name):\n",
    "        self.patient_name = patient_name\n",
    "        self.conditions = []\n",
    "\n",
    "# Creating an object of the class\n",
    "p1 = Patient(\"Farhan\")\n",
    "\n",
    "print(p1.patient_name) "
   ]
  },
  {
   "cell_type": "code",
   "execution_count": null,
   "metadata": {},
   "outputs": [],
   "source": [
    "class Patient():\n",
    "    def __init__(self, patient_name, age, state, conditions):\n",
    "        self.patient_name = patient_name\n",
    "        self.age = age\n",
    "        self.state = state\n",
    "        self.conditions = conditions\n",
    "\n",
    "# Creating an object of the class\n",
    "p1 = Patient(\"Farhan\", 25, \"Punjab\", [\"Fever\", \"Cough\"])\n",
    "\n",
    "print(p1)  # Output: object\n",
    "print(p1.patient_name)  \n",
    "print(p1.age)  \n",
    "print(p1.state)  \n",
    "print(p1.conditions) \n"
   ]
  },
  {
   "cell_type": "code",
   "execution_count": null,
   "metadata": {},
   "outputs": [],
   "source": [
    "class Patient():\n",
    "    def __init__(self, patient_name, age, state, conditions):\n",
    "        self.patient_name = patient_name\n",
    "        self.age = age\n",
    "        self.state = state\n",
    "        self.conditions = conditions\n",
    "\n",
    "    def display_info(self):\n",
    "        print(f\"Patient Name: {self.patient_name}\")\n",
    "        print(f\"Age: {self.age}\")\n",
    "        print(f\"State: {self.state}\")\n",
    "        print(f\"Conditions: {self.conditions}\")\n",
    "\n",
    "# Creating an object of the class\n",
    "p1 = Patient(\"Farhan\", 25, \"Punjab\", [\"Fever\", \"Cough\"])\n",
    "\n",
    "p1.display_info()\n"
   ]
  },
  {
   "cell_type": "code",
   "execution_count": null,
   "metadata": {},
   "outputs": [],
   "source": [
    "class Car:\n",
    "    def __init__(self, brand, model, year):\n",
    "        self.brand = brand  # Attribute\n",
    "        self.model = model  # Attribute\n",
    "        self.year = year    # Attribute\n",
    "\n",
    "    def display_info(self):\n",
    "        print(f\"{self.year} {self.brand} {self.model}\")\n",
    "\n",
    "# Creating objects (instances)\n",
    "car1 = Car(\"Toyota\", \"Corolla\", 2022)\n",
    "car2 = Car(\"Honda\", \"Civic\", 2023)\n",
    "\n",
    "car1.display_info()  \n",
    "car2.display_info()  "
   ]
  },
  {
   "cell_type": "code",
   "execution_count": null,
   "metadata": {},
   "outputs": [],
   "source": [
    "class Cat:\n",
    "    def __init__(self, name, breed=\"Unknown\"):\n",
    "        self.name = name\n",
    "        self.breed = breed  # Instance variable\n",
    "\n",
    "    def meow(self):\n",
    "        print(f\"{self.name}: Meow! Meow!\")\n",
    "\n",
    "    def show_breed(self):\n",
    "        print(f\"{self.name} is a {self.breed}\")\n",
    "\n",
    "# Creating objects\n",
    "cat1 = Cat(\"Whiskers\")  # Pass \"Persian\"\n",
    "cat2 = Cat(\"Mittens\", \"Persian\")   # Pass \"Persian\" for Mittens too\n",
    "\n",
    "cat1.meow()  \n",
    "cat2.show_breed()  \n"
   ]
  },
  {
   "cell_type": "code",
   "execution_count": null,
   "metadata": {},
   "outputs": [],
   "source": [
    "class Car:\n",
    "    def __init__(self, brand, model, year):\n",
    "        self.brand = brand\n",
    "        self.model = model\n",
    "        self.year = year\n",
    "        self.is_running = False  # Default state\n",
    "\n",
    "    def start_engine(self):  # Method to start the car\n",
    "        self.is_running = True\n",
    "        print(f\"{self.brand} {self.model}'s engine started!\")\n",
    "\n",
    "    def stop_engine(self):  # Method to stop the car\n",
    "        self.is_running = False\n",
    "        print(f\"{self.brand} {self.model}'s engine stopped!\")\n",
    "\n",
    "    def car_info(self):  # Method to display car details\n",
    "        print(f\"Car: {self.year} {self.brand} {self.model}\")\n",
    "\n",
    "# Creating an object (instance)\n",
    "car1 = Car(\"Toyota\", \"Corolla\", 2022)\n",
    "\n",
    "car1.car_info()       \n",
    "car1.start_engine()   \n",
    "car1.stop_engine()    "
   ]
  },
  {
   "cell_type": "code",
   "execution_count": null,
   "metadata": {},
   "outputs": [],
   "source": [
    "class BankAccount:\n",
    "    def __init__(self, owner, initial_balance=0):\n",
    "        self.owner = owner\n",
    "        self.initial_balance = initial_balance\n",
    "\n",
    "    def account_info(self):\n",
    "        print(f\"Account Owner: {self.owner}\")\n",
    "        print(f\"Initial Balance: ${self.initial_balance}\")\n",
    "        print(f\"Account Type: Current Account\")\n",
    "\n",
    "    def deposit(self, amount):\n",
    "        self.initial_balance += amount\n",
    "        print(f\"${amount} deposited. New balance: ${self.initial_balance}\")\n",
    "\n",
    "    def withdraw(self, amount):\n",
    "        if amount > self.initial_balance:\n",
    "            print(\"Insufficient funds!\")\n",
    "        else:\n",
    "            self.initial_balance -= amount\n",
    "            print(f\"${amount} withdrawn. New balance: ${self.initial_balance}\")\n",
    "\n",
    "# Creating an account\n",
    "Farhan_account = BankAccount(\" Farhan\", 0)\n",
    "Ali_account = BankAccount(\"Ali\", 00)\n",
    "\n",
    "Farhan_account.account_info() \n",
    "Farhan_account.deposit(2000) \n",
    "Farhan_account.withdraw(100) \n",
    "Farhan_account.withdraw(700) \n",
    "Farhan_account.deposit(500)  "
   ]
  },
  {
   "cell_type": "code",
   "execution_count": null,
   "metadata": {},
   "outputs": [],
   "source": [
    "class Car:\n",
    "    def __init__(self, brand, model, fuel=0):\n",
    "        self.brand = brand\n",
    "        self.model = model\n",
    "        self.fuel = fuel\n",
    "\n",
    "    def drive(self, distance):\n",
    "        fuel_needed = distance * 0.05  # Example: 1 km needs 0.1 liters of fuel\n",
    "        print(f\"Fuel needed to drive {distance}km: {fuel_needed}L\")\n",
    "        if self.fuel >= fuel_needed:\n",
    "            self.fuel -= fuel_needed\n",
    "            print(f\"{self.brand} {self.model} drove {distance} km. Fuel left: {self.fuel}L\")\n",
    "        else:\n",
    "            print(f\"Not enough fuel to drive {distance} km!\")\n",
    "\n",
    "    def refuel(self, amount):\n",
    "        self.fuel += amount\n",
    "        print(f\"Refueled {amount} liters. Current fuel: {self.fuel}L\")\n",
    "\n",
    "# Creating an instance\n",
    "my_car = Car(\"Tesla\", \"Model 3\", 100)\n",
    "\n",
    "my_car.drive(60)  # Drives if enough fuel\n",
    "my_car.refuel(200) # Adds fuel\n",
    "my_car.drive(100) # Tries again with more fuel\n"
   ]
  },
  {
   "cell_type": "code",
   "execution_count": null,
   "metadata": {},
   "outputs": [],
   "source": [
    "class Car:\n",
    "    def __init__(self, brand, model, color):\n",
    "        self.brand = brand\n",
    "        self.model = model\n",
    "        self.color = color  # Attribute\n",
    "\n",
    "# Creating an object\n",
    "car1 = Car(\"Toyota\", \"Corolla\", \"Red\")\n",
    "\n",
    "print(car1.color)  # Output: Red\n",
    "\n",
    "# Changing the attribute directly\n",
    "car1.color = \"Blue\"\n",
    "print(car1.color)  # Output: Blue"
   ]
  },
  {
   "cell_type": "markdown",
   "metadata": {},
   "source": [
    "# **Classes: Changing an Attribute’s Value in Python OOP**\n",
    "\n",
    "There are 3 ways to change an attribute’s value in a class:\n",
    "* Modifying the attribute directly\n",
    "* Using a method inside the class\n",
    "* Using a special method (setter method)"
   ]
  },
  {
   "cell_type": "markdown",
   "metadata": {},
   "source": [
    "## **Modifying an Attribute Directly using dot operator**"
   ]
  },
  {
   "cell_type": "code",
   "execution_count": null,
   "metadata": {},
   "outputs": [],
   "source": [
    "class Car:\n",
    "    def __init__(self, brand, model, color):\n",
    "        self.brand = brand\n",
    "        self.model = model\n",
    "        self.color = color  # Attribute\n",
    "\n",
    "# Creating an object\n",
    "car1 = Car(\"Toyota\", \"Corolla\", \"Red\")\n",
    "\n",
    "print(car1.color)  # Output: Red\n",
    "\n",
    "# Changing the attribute directly\n",
    "car1.color = \"Blue\"\n",
    "print(car1.color)  # Output: Blue"
   ]
  },
  {
   "cell_type": "markdown",
   "metadata": {},
   "source": [
    "## **Changing an Attribute Using a Method**"
   ]
  },
  {
   "cell_type": "code",
   "execution_count": null,
   "metadata": {},
   "outputs": [],
   "source": [
    "class Car:\n",
    "    def __init__(self, brand, model, color):\n",
    "        self.brand = brand\n",
    "        self.model = model\n",
    "        self.color = color\n",
    "\n",
    "    def change_color(self, new_color):  # Method to change attribute\n",
    "        self.color = new_color\n",
    "        print(f\"Car color changed to {self.color}\")\n",
    "\n",
    "# Creating an object\n",
    "car1 = Car(\"Toyota\", \"Corolla\", \"Red\")\n",
    "\n",
    "print(car1.color)  # Output: Red\n",
    "car1.change_color(\"Blue\")  # Output: Car color changed to Blue\n",
    "print(car1.color)  # Output: Blue\n"
   ]
  },
  {
   "cell_type": "markdown",
   "metadata": {},
   "source": [
    "## **Using a Setter Method for Controlled Updates**"
   ]
  },
  {
   "cell_type": "code",
   "execution_count": null,
   "metadata": {},
   "outputs": [],
   "source": [
    "class Car:\n",
    "    def __init__(self, brand, model, color):\n",
    "        self.brand = brand\n",
    "        self.model = model\n",
    "        self._color = color  # Private attribute (using underscore _color)\n",
    "\n",
    "    def set_color(self, new_color):  # Setter method\n",
    "        if new_color.lower() in [\"red\", \"blue\", \"black\", \"white\"]:\n",
    "            self._color = new_color\n",
    "            print(f\"Color updated to {self._color}\")\n",
    "        else:\n",
    "            print(\"Invalid color choice!\")\n",
    "\n",
    "    def get_color(self):  # Getter method\n",
    "        return self._color\n",
    "\n",
    "# Creating an object\n",
    "car1 = Car(\"Toyota\", \"Corolla\", \"Red\")\n",
    "\n",
    "car1.set_color(\"Blue\")  \n",
    "car1.set_color(\"Pink\")  \n",
    "print(car1.get_color())  "
   ]
  },
  {
   "cell_type": "markdown",
   "metadata": {},
   "source": [
    "# **Data files**"
   ]
  },
  {
   "cell_type": "code",
   "execution_count": null,
   "metadata": {},
   "outputs": [],
   "source": [
    "# Writing initial data\n",
    "with open(\"data.txt\", \"w\") as file:\n",
    "    file.write(\"This is the original content.\\n\")\n",
    "\n",
    "# Appending new data\n",
    "with open(\"data.txt\", \"a\") as file:\n",
    "    file.write(\"This is newly appended data.\\n\")\n",
    "\n",
    "# Reading the file to check the result\n",
    "with open(\"data.txt\", \"r\") as file:\n",
    "    print(file.read())\n"
   ]
  },
  {
   "cell_type": "code",
   "execution_count": null,
   "metadata": {},
   "outputs": [],
   "source": [
    "import csv\n",
    "\n",
    "# Initial data\n",
    "with open(\"data.csv\", \"w\", newline=\"\") as file:\n",
    "    writer = csv.writer(file)\n",
    "    writer.writerow([\"Name\", \"Age\", \"Country\"])\n",
    "    writer.writerow([\"Ali\", 25, \"Pakistan\"])\n",
    "\n",
    "# Appending new rows\n",
    "with open(\"data.csv\", \"a\", newline=\"\") as file:\n",
    "    writer = csv.writer(file)\n",
    "    writer.writerow([\"Sara\", 30, \"USA\"])\n",
    "\n",
    "# Reading the file to check the result\n",
    "with open(\"data.csv\", \"r\") as file:\n",
    "    print(file.read())"
   ]
  },
  {
   "cell_type": "code",
   "execution_count": null,
   "metadata": {},
   "outputs": [],
   "source": [
    "import json\n",
    "\n",
    "# Initial data\n",
    "data = [{\"Name\": \"Ali\", \"Age\": 25, \"Country\": \"Pakistan\"}]\n",
    "\n",
    "with open(\"data.json\", \"w\") as file:\n",
    "    json.dump(data, file, indent=4)\n",
    "\n",
    "# Appending new data\n",
    "new_data = {\"Name\": \"Sara\", \"Age\": 30, \"Country\": \"USA\"}\n",
    "\n",
    "with open(\"data.json\", \"r\") as file:\n",
    "    existing_data = json.load(file)  # Load existing data\n",
    "\n",
    "existing_data.append(new_data)  # Append new record\n",
    "\n",
    "with open(\"data.json\", \"w\") as file:\n",
    "    json.dump(existing_data, file, indent=4)  # Overwrite with new data\n",
    "\n",
    "# Reading the file to check the result\n",
    "with open(\"data.json\", \"r\") as file:\n",
    "    print(file.read())"
   ]
  },
  {
   "cell_type": "code",
   "execution_count": null,
   "metadata": {},
   "outputs": [],
   "source": [
    "import pandas as pd  # need pandas and openpyxl installed\n",
    "\n",
    "# Initial DataFrame\n",
    "data = pd.DataFrame({\"Name\": [\"Ali\"], \"Age\": [25], \"Country\": [\"Pakistan\"]})\n",
    "data.to_excel(\"data.xlsx\", index=False)\n",
    "\n",
    "# Reading existing data\n",
    "df = pd.read_excel(\"data.xlsx\")\n",
    "\n",
    "# Creating new data to append\n",
    "new_data = pd.DataFrame({\"Name\": [\"Sara\"], \"Age\": [30], \"Country\": [\"USA\"]})\n",
    "\n",
    "# Appending and saving\n",
    "df = pd.concat([df, new_data], ignore_index=True)\n",
    "df.to_excel(\"data.xlsx\", index=False)\n",
    "\n",
    "# Reading back the file\n",
    "print(pd.read_excel(\"data.xlsx\"))"
   ]
  },
  {
   "cell_type": "markdown",
   "metadata": {},
   "source": [
    "# **Built-in Modules (Pre-installed in Python)**"
   ]
  },
  {
   "cell_type": "code",
   "execution_count": null,
   "metadata": {},
   "outputs": [],
   "source": [
    "import math\n",
    "\n",
    "print(math.sqrt(25)) \n",
    "print(math.factorial(5)) \n",
    "print(math.pi) "
   ]
  },
  {
   "cell_type": "code",
   "execution_count": null,
   "metadata": {},
   "outputs": [],
   "source": [
    "import random\n",
    "\n",
    "print(random.randint(1, 10))  # Random integer between 1 and 10\n",
    "print(random.choice([\"Apple\", \"Banana\", \"Cherry\"]))  # Random choice from list\n"
   ]
  },
  {
   "cell_type": "code",
   "execution_count": null,
   "metadata": {},
   "outputs": [],
   "source": [
    "import datetime\n",
    "\n",
    "now = datetime.datetime.now()\n",
    "print(now)  # Output: Current date and time\n",
    "print(now.strftime(\"%Y-%m-%d %H:%M:%S\"))  # Formatted date-time\n"
   ]
  },
  {
   "cell_type": "code",
   "execution_count": null,
   "metadata": {},
   "outputs": [],
   "source": [
    "import mymodule\n",
    "\n",
    "print(mymodule.greet(\"Ali\")) \n",
    "print(mymodule.PI) \n"
   ]
  },
  {
   "cell_type": "markdown",
   "metadata": {},
   "source": [
    "## **Installing & Using External Modules (from pip)**"
   ]
  },
  {
   "cell_type": "code",
   "execution_count": null,
   "metadata": {},
   "outputs": [],
   "source": [
    "import requests\n",
    "\n",
    "response = requests.get(\"https://api.github.com\")\n",
    "print(f\"Status_code:\" , response.status_code)  # Output: 200 (if successful)"
   ]
  },
  {
   "cell_type": "markdown",
   "metadata": {},
   "source": [
    "# **Exception handling**"
   ]
  },
  {
   "cell_type": "code",
   "execution_count": null,
   "metadata": {},
   "outputs": [],
   "source": [
    "while True:\n",
    "    try:\n",
    "        age = int(input(\"Enter your age: \"))\n",
    "        print(f\"Your age is {age}\")\n",
    "        break  # Exit loop if input is valid\n",
    "    except ValueError:\n",
    "        print(\"Invalid input! Please enter a number.\")  \n"
   ]
  },
  {
   "cell_type": "code",
   "execution_count": null,
   "metadata": {},
   "outputs": [],
   "source": []
  }
 ],
 "metadata": {
  "kernelspec": {
   "display_name": "python",
   "language": "python",
   "name": "python3"
  },
  "language_info": {
   "codemirror_mode": {
    "name": "ipython",
    "version": 3
   },
   "file_extension": ".py",
   "mimetype": "text/x-python",
   "name": "python",
   "nbconvert_exporter": "python",
   "pygments_lexer": "ipython3",
   "version": "3.13.2"
  }
 },
 "nbformat": 4,
 "nbformat_minor": 2
}
