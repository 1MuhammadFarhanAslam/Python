{
 "cells": [
  {
   "cell_type": "markdown",
   "metadata": {},
   "source": [
    "# **Python for Data Analysis**"
   ]
  },
  {
   "cell_type": "markdown",
   "metadata": {},
   "source": [
    "## **NumPy Basics: Arrays and Vectorized Computation**"
   ]
  },
  {
   "cell_type": "code",
   "execution_count": 1,
   "metadata": {},
   "outputs": [],
   "source": [
    "import numpy as np"
   ]
  },
  {
   "cell_type": "code",
   "execution_count": 6,
   "metadata": {},
   "outputs": [
    {
     "name": "stdout",
     "output_type": "stream",
     "text": [
      "[[-0.06255002  0.70685834  0.57192944]\n",
      " [ 0.46268851  1.37521481 -0.49903599]]\n"
     ]
    }
   ],
   "source": [
    "# Generate some random data\n",
    "data = np.random.randn(2, 3)\n",
    "print(data)"
   ]
  },
  {
   "cell_type": "code",
   "execution_count": 7,
   "metadata": {},
   "outputs": [
    {
     "name": "stdout",
     "output_type": "stream",
     "text": [
      "[[ 9.93744998 10.70685834 10.57192944]\n",
      " [10.46268851 11.37521481  9.50096401]]\n"
     ]
    }
   ],
   "source": [
    "data_10 = data + 10\n",
    "print(data_10)"
   ]
  },
  {
   "cell_type": "code",
   "execution_count": 8,
   "metadata": {},
   "outputs": [
    {
     "name": "stdout",
     "output_type": "stream",
     "text": [
      "[[-10.06255002  -9.29314166  -9.42807056]\n",
      " [ -9.53731149  -8.62478519 -10.49903599]]\n"
     ]
    }
   ],
   "source": [
    "data_10 = data - 10\n",
    "print(data_10)"
   ]
  },
  {
   "cell_type": "code",
   "execution_count": 3,
   "metadata": {},
   "outputs": [
    {
     "name": "stdout",
     "output_type": "stream",
     "text": [
      "[[  8.48642568   3.51227859   6.8717405 ]\n",
      " [-13.47046034   1.89349987  15.56131513]]\n"
     ]
    }
   ],
   "source": [
    "data_10 = data * 10\n",
    "print(data_10)"
   ]
  },
  {
   "cell_type": "code",
   "execution_count": 9,
   "metadata": {},
   "outputs": [
    {
     "name": "stdout",
     "output_type": "stream",
     "text": [
      "[[-0.006255    0.07068583  0.05719294]\n",
      " [ 0.04626885  0.13752148 -0.0499036 ]]\n"
     ]
    }
   ],
   "source": [
    "data_10 = data / 10\n",
    "print(data_10)"
   ]
  },
  {
   "cell_type": "code",
   "execution_count": 10,
   "metadata": {},
   "outputs": [
    {
     "name": "stdout",
     "output_type": "stream",
     "text": [
      "[[-1.  0.  0.]\n",
      " [ 0.  0. -1.]]\n"
     ]
    }
   ],
   "source": [
    "data_10 = data // 10\n",
    "print(data_10)"
   ]
  },
  {
   "cell_type": "code",
   "execution_count": 11,
   "metadata": {},
   "outputs": [
    {
     "name": "stdout",
     "output_type": "stream",
     "text": [
      "[[9.93744998 0.70685834 0.57192944]\n",
      " [0.46268851 1.37521481 9.50096401]]\n"
     ]
    }
   ],
   "source": [
    "data_10 = data % 10\n",
    "print(data_10)"
   ]
  },
  {
   "cell_type": "code",
   "execution_count": 12,
   "metadata": {},
   "outputs": [
    {
     "name": "stdout",
     "output_type": "stream",
     "text": [
      "[[9.16800220e-13 3.11403771e-02 3.74476466e-03]\n",
      " [4.49663041e-04 2.41938732e+01 9.57896675e-04]]\n"
     ]
    }
   ],
   "source": [
    "data_10 = data ** 10\n",
    "print(data_10)"
   ]
  },
  {
   "cell_type": "code",
   "execution_count": 13,
   "metadata": {},
   "outputs": [
    {
     "data": {
      "text/plain": [
       "numpy.ndarray"
      ]
     },
     "execution_count": 13,
     "metadata": {},
     "output_type": "execute_result"
    }
   ],
   "source": [
    "type(data)"
   ]
  },
  {
   "cell_type": "code",
   "execution_count": 15,
   "metadata": {},
   "outputs": [
    {
     "data": {
      "text/plain": [
       "(2, 3)"
      ]
     },
     "execution_count": 15,
     "metadata": {},
     "output_type": "execute_result"
    }
   ],
   "source": [
    "data.shape"
   ]
  },
  {
   "cell_type": "code",
   "execution_count": 16,
   "metadata": {},
   "outputs": [
    {
     "data": {
      "text/plain": [
       "dtype('float64')"
      ]
     },
     "execution_count": 16,
     "metadata": {},
     "output_type": "execute_result"
    }
   ],
   "source": [
    "data.dtype"
   ]
  },
  {
   "cell_type": "code",
   "execution_count": 17,
   "metadata": {},
   "outputs": [
    {
     "name": "stdout",
     "output_type": "stream",
     "text": [
      "[6.  7.5 8.  0.  1. ]\n"
     ]
    }
   ],
   "source": [
    "# Creating ndarrays\n",
    "\n",
    "data1 = [6, 7.5, 8, 0, 1]\n",
    "arr1 = np.array(data1)\n",
    "print(arr1)"
   ]
  },
  {
   "cell_type": "code",
   "execution_count": 18,
   "metadata": {},
   "outputs": [
    {
     "name": "stdout",
     "output_type": "stream",
     "text": [
      "[[1 2 3 4]\n",
      " [5 6 7 8]]\n"
     ]
    }
   ],
   "source": [
    "data2 = [[1, 2, 3, 4], [5, 6, 7, 8]]\n",
    "arr2 = np.array(data2)\n",
    "print(arr2)"
   ]
  },
  {
   "cell_type": "code",
   "execution_count": 20,
   "metadata": {},
   "outputs": [
    {
     "name": "stdout",
     "output_type": "stream",
     "text": [
      "float64\n",
      "int64\n"
     ]
    }
   ],
   "source": [
    "print(arr1.dtype)\n",
    "print(arr2.dtype)"
   ]
  },
  {
   "cell_type": "code",
   "execution_count": 21,
   "metadata": {},
   "outputs": [
    {
     "name": "stdout",
     "output_type": "stream",
     "text": [
      "1\n",
      "2\n"
     ]
    }
   ],
   "source": [
    "print(arr1.ndim)\n",
    "print(arr2.ndim)"
   ]
  },
  {
   "cell_type": "code",
   "execution_count": 22,
   "metadata": {},
   "outputs": [
    {
     "name": "stdout",
     "output_type": "stream",
     "text": [
      "(5,)\n",
      "(2, 4)\n"
     ]
    }
   ],
   "source": [
    "print(arr1.shape)\n",
    "print(arr2.shape)"
   ]
  },
  {
   "cell_type": "code",
   "execution_count": 23,
   "metadata": {},
   "outputs": [
    {
     "name": "stdout",
     "output_type": "stream",
     "text": [
      "[0. 0. 0. 0. 0. 0. 0. 0. 0. 0.]\n"
     ]
    }
   ],
   "source": [
    "arr3 = np.zeros(10)\n",
    "print(arr3)"
   ]
  },
  {
   "cell_type": "code",
   "execution_count": null,
   "metadata": {},
   "outputs": [
    {
     "name": "stdout",
     "output_type": "stream",
     "text": [
      "[[0. 0. 0. 0. 0. 0.]\n",
      " [0. 0. 0. 0. 0. 0.]\n",
      " [0. 0. 0. 0. 0. 0.]]\n"
     ]
    }
   ],
   "source": [
    "arr3 = np.zeros((3, 6))\n",
    "print(arr3)"
   ]
  },
  {
   "cell_type": "code",
   "execution_count": 26,
   "metadata": {},
   "outputs": [
    {
     "name": "stdout",
     "output_type": "stream",
     "text": [
      "[1. 1. 1.]\n"
     ]
    }
   ],
   "source": [
    "arr4 = np.ones((3))\n",
    "print(arr4)"
   ]
  },
  {
   "cell_type": "code",
   "execution_count": 27,
   "metadata": {},
   "outputs": [
    {
     "name": "stdout",
     "output_type": "stream",
     "text": [
      "[[1. 1. 1. 1. 1. 1.]\n",
      " [1. 1. 1. 1. 1. 1.]\n",
      " [1. 1. 1. 1. 1. 1.]]\n"
     ]
    }
   ],
   "source": [
    "arr4 = np.ones((3,6))\n",
    "print(arr4)"
   ]
  },
  {
   "cell_type": "code",
   "execution_count": 28,
   "metadata": {},
   "outputs": [
    {
     "name": "stdout",
     "output_type": "stream",
     "text": [
      "1\n"
     ]
    }
   ],
   "source": [
    "arr4 = np.ones_like((3))\n",
    "print(arr4)"
   ]
  },
  {
   "cell_type": "code",
   "execution_count": 29,
   "metadata": {},
   "outputs": [
    {
     "name": "stdout",
     "output_type": "stream",
     "text": [
      "[1 1]\n"
     ]
    }
   ],
   "source": [
    "arr4 = np.ones_like((3,6))\n",
    "print(arr4)"
   ]
  },
  {
   "cell_type": "code",
   "execution_count": 33,
   "metadata": {},
   "outputs": [
    {
     "name": "stdout",
     "output_type": "stream",
     "text": [
      "[1. 1. 1.]\n"
     ]
    }
   ],
   "source": [
    "arr4 = np.empty((3))\n",
    "print(arr4)"
   ]
  },
  {
   "cell_type": "code",
   "execution_count": 34,
   "metadata": {},
   "outputs": [
    {
     "name": "stdout",
     "output_type": "stream",
     "text": [
      "[[2.41907520e-312 1.10343781e-312 1.29441743e-312 2.33419537e-312\n",
      "  9.76118064e-313 2.33419537e-312 2.44029516e-312]\n",
      " [2.29175545e-312 2.27053550e-312 8.48798317e-313 1.08221785e-312\n",
      "  1.14587773e-312 8.70018274e-313 2.37663529e-312]\n",
      " [2.22809558e-312 2.46151512e-312 2.05833592e-312 2.41907520e-312\n",
      "  8.70018275e-313 8.34443015e-308 3.91792476e-317]]\n"
     ]
    }
   ],
   "source": [
    "arr4 = np.empty((3,7))\n",
    "print(arr4)"
   ]
  },
  {
   "cell_type": "code",
   "execution_count": 40,
   "metadata": {},
   "outputs": [
    {
     "name": "stdout",
     "output_type": "stream",
     "text": [
      "[1 2 3] int64\n",
      "[4. 5. 6.] float64\n"
     ]
    }
   ],
   "source": [
    "# array(): Convert a list, tuple, or other sequence into a NumPy ndarray\n",
    "arr1 = np.array([1, 2, 3])  \n",
    "arr2 = np.array((4, 5, 6), dtype=float)  # Explicitly setting dtype to float\n",
    "\n",
    "print(arr1, arr1.dtype)\n",
    "print(arr2, arr2.dtype)"
   ]
  },
  {
   "cell_type": "code",
   "execution_count": 39,
   "metadata": {},
   "outputs": [
    {
     "name": "stdout",
     "output_type": "stream",
     "text": [
      "[1 2 3] int64\n",
      "[[1 2 3]\n",
      " [4 5 6]] int64\n"
     ]
    }
   ],
   "source": [
    "# asarray(): Converts to ndarray but avoids copying if already ndarray\n",
    "arr3 = np.asarray(arr1)  # No new array is created (same reference)\n",
    "arr4 = np.asarray([[1, 2, 3], [4, 5, 6]])  # Converts list of lists to ndarray\n",
    "\n",
    "print(arr3, arr3.dtype)\n",
    "print(arr4, arr4.dtype)"
   ]
  },
  {
   "cell_type": "code",
   "execution_count": 41,
   "metadata": {},
   "outputs": [
    {
     "name": "stdout",
     "output_type": "stream",
     "text": [
      "[0 2 4 6 8]\n"
     ]
    }
   ],
   "source": [
    "# arange(): Create an array with a range of values  (start, stop, step)\n",
    "arr5 = np.arange(0, 10, 2) # Start at 0, stop at 10, step by 2\n",
    "print(arr5)"
   ]
  },
  {
   "cell_type": "code",
   "execution_count": 42,
   "metadata": {},
   "outputs": [
    {
     "name": "stdout",
     "output_type": "stream",
     "text": [
      "[[1. 1. 1.]\n",
      " [1. 1. 1.]]\n",
      "[1 1 1 1 1]\n"
     ]
    }
   ],
   "source": [
    "arr6 = np.ones((2, 3))  # 2x3 matrix of 1s\n",
    "arr7 = np.ones_like(arr5)  # Create same shape as arr5 but filled with 1s\n",
    "\n",
    "print(arr6)\n",
    "print(arr7)"
   ]
  },
  {
   "cell_type": "code",
   "execution_count": 44,
   "metadata": {},
   "outputs": [
    {
     "name": "stdout",
     "output_type": "stream",
     "text": [
      "[[0. 0.]\n",
      " [0. 0.]\n",
      " [0. 0.]]\n",
      "[0 0 0 0 0]\n"
     ]
    }
   ],
   "source": [
    "# zeros(), zeros_like(): Create an array of 0s\n",
    "arr8 = np.zeros((3, 2))  # 3x2 matrix of 0s\n",
    "arr9 = np.zeros_like(arr5)  # Same shape as arr5, filled with 0s\n",
    "\n",
    "print(arr8)\n",
    "print(arr9)"
   ]
  },
  {
   "cell_type": "code",
   "execution_count": 45,
   "metadata": {},
   "outputs": [
    {
     "name": "stdout",
     "output_type": "stream",
     "text": [
      "[[6.  7.5]\n",
      " [8.  1. ]]\n",
      "[0 0 0 0 0]\n"
     ]
    }
   ],
   "source": [
    "# empty(), empty_like(): Allocate memory without initializing values\n",
    "arr10 = np.empty((2, 2))  # Contains random uninitialized values\n",
    "arr11 = np.empty_like(arr5)  # Same shape as arr5, uninitialized values\n",
    "\n",
    "print(arr10)\n",
    "print(arr11)"
   ]
  },
  {
   "cell_type": "code",
   "execution_count": 46,
   "metadata": {},
   "outputs": [
    {
     "name": "stdout",
     "output_type": "stream",
     "text": [
      "[[7 7]\n",
      " [7 7]]\n",
      "[3 3 3 3 3]\n"
     ]
    }
   ],
   "source": [
    "# full(), full_like(): Create an array filled with a specific value\n",
    "arr12 = np.full((2, 2), 7)  # 2x2 matrix filled with 7s\n",
    "arr13 = np.full_like(arr5, 3)  # Same shape as arr5, filled with 3s\n",
    "\n",
    "print(arr12)\n",
    "print(arr13)"
   ]
  },
  {
   "cell_type": "code",
   "execution_count": 47,
   "metadata": {},
   "outputs": [
    {
     "name": "stdout",
     "output_type": "stream",
     "text": [
      "[[1. 0. 0.]\n",
      " [0. 1. 0.]\n",
      " [0. 0. 1.]]\n",
      "[[1. 0. 0. 0.]\n",
      " [0. 1. 0. 0.]\n",
      " [0. 0. 1. 0.]\n",
      " [0. 0. 0. 1.]]\n"
     ]
    }
   ],
   "source": [
    "# eye(), identity(): Create an identity matrix (diagonal 1s, others 0s)\n",
    "arr14 = np.eye(3)  # 3x3 identity matrix\n",
    "arr15 = np.identity(4)  # 4x4 identity matrix\n",
    "\n",
    "print(arr14)\n",
    "print(arr15)"
   ]
  },
  {
   "cell_type": "code",
   "execution_count": 48,
   "metadata": {},
   "outputs": [
    {
     "name": "stdout",
     "output_type": "stream",
     "text": [
      "float64\n",
      "int32\n"
     ]
    }
   ],
   "source": [
    "# dtype: Data type object\n",
    "arr1 = np.array([1, 2, 3], dtype=np.float64)  # Creates an array with float64 data type\n",
    "arr2 = np.array([1, 2, 3], dtype=np.int32)    # Creates an array with int32 data type\n",
    "\n",
    "print(arr1.dtype)  # Output: float64\n",
    "print(arr2.dtype)  # Output: int32\n"
   ]
  },
  {
   "cell_type": "code",
   "execution_count": 49,
   "metadata": {},
   "outputs": [
    {
     "name": "stdout",
     "output_type": "stream",
     "text": [
      "int64\n",
      "float64\n"
     ]
    }
   ],
   "source": [
    "arr = np.array([1, 2, 3, 4, 5])  # Creating an integer array\n",
    "print(arr.dtype)  # Output: int64\n",
    "\n",
    "float_arr = arr.astype(np.float64)  # Converting to float64\n",
    "print(float_arr.dtype)  # Output: float64\n"
   ]
  },
  {
   "cell_type": "code",
   "execution_count": 56,
   "metadata": {},
   "outputs": [
    {
     "name": "stdout",
     "output_type": "stream",
     "text": [
      "|S4\n",
      "float64\n"
     ]
    }
   ],
   "source": [
    "import numpy as np\n",
    "\n",
    "# Creating an array of numeric strings\n",
    "numeric_strings = np.array(['1.25', '-9.6', '42'], dtype=np.bytes_)\n",
    "\n",
    "# Converting the string array to a float array\n",
    "float_arr = numeric_strings.astype(float)\n",
    "\n",
    "print(numeric_strings.dtype)\n",
    "print(float_arr.dtype)  \n",
    "# Output: array([ 1.25, -9.6 , 42. ])\n"
   ]
  },
  {
   "cell_type": "code",
   "execution_count": 58,
   "metadata": {},
   "outputs": [
    {
     "name": "stdout",
     "output_type": "stream",
     "text": [
      "int32\n"
     ]
    }
   ],
   "source": [
    "float_arr = float_arr.astype(np.int32)  # Store the new array\n",
    "print(float_arr.dtype)  # Now it should print int32"
   ]
  },
  {
   "cell_type": "markdown",
   "metadata": {},
   "source": [
    "# **Basic Indexing and Slicing**"
   ]
  },
  {
   "cell_type": "code",
   "execution_count": 59,
   "metadata": {},
   "outputs": [
    {
     "name": "stdout",
     "output_type": "stream",
     "text": [
      "[5 6 7]\n"
     ]
    }
   ],
   "source": [
    "arr = np.arange(10)\n",
    "\n",
    "# Slicing from index 5 to 8 (exclusive)\n",
    "print(arr[5:8])"
   ]
  },
  {
   "cell_type": "code",
   "execution_count": 60,
   "metadata": {},
   "outputs": [
    {
     "name": "stdout",
     "output_type": "stream",
     "text": [
      "[ 0  1  2  3  4 12 12 12  8  9]\n"
     ]
    }
   ],
   "source": [
    "# update values in the array\n",
    "arr[5:8] = 12\n",
    "print(arr)"
   ]
  },
  {
   "cell_type": "code",
   "execution_count": 61,
   "metadata": {},
   "outputs": [
    {
     "name": "stdout",
     "output_type": "stream",
     "text": [
      "[12 12 12]\n"
     ]
    }
   ],
   "source": [
    "arr_1 = arr[5:8]\n",
    "print(arr_1)"
   ]
  },
  {
   "cell_type": "code",
   "execution_count": 62,
   "metadata": {},
   "outputs": [
    {
     "name": "stdout",
     "output_type": "stream",
     "text": [
      "[ 0  1  2  3  4 15 15 15 15 15]\n"
     ]
    }
   ],
   "source": [
    "# update values in the array\n",
    "arr[5:] = 15\n",
    "print(arr)"
   ]
  },
  {
   "cell_type": "code",
   "execution_count": 63,
   "metadata": {},
   "outputs": [
    {
     "name": "stdout",
     "output_type": "stream",
     "text": [
      "[17 17 17 17 17 17 17 17 15 15]\n"
     ]
    }
   ],
   "source": [
    "# update values in the array\n",
    "arr[:8] = 17\n",
    "print(arr)"
   ]
  },
  {
   "cell_type": "code",
   "execution_count": 64,
   "metadata": {},
   "outputs": [
    {
     "name": "stdout",
     "output_type": "stream",
     "text": [
      "[5 5 5 5 5 5 5 5 5 5]\n"
     ]
    }
   ],
   "source": [
    "# update values in the array\n",
    "arr[:] = 5\n",
    "print(arr)"
   ]
  },
  {
   "cell_type": "code",
   "execution_count": 65,
   "metadata": {},
   "outputs": [
    {
     "name": "stdout",
     "output_type": "stream",
     "text": [
      "[[1 2 3]\n",
      " [4 5 6]\n",
      " [7 8 9]]\n"
     ]
    }
   ],
   "source": [
    "arr2d = np.array([[1, 2, 3], [4, 5, 6], [7, 8, 9]])\n",
    "print(arr2d)"
   ]
  },
  {
   "cell_type": "code",
   "execution_count": 72,
   "metadata": {},
   "outputs": [
    {
     "name": "stdout",
     "output_type": "stream",
     "text": [
      "[7 8 9]\n",
      "8\n"
     ]
    }
   ],
   "source": [
    "print(arr2d[2])\n",
    "print(arr2d[2][1])"
   ]
  },
  {
   "cell_type": "code",
   "execution_count": 75,
   "metadata": {},
   "outputs": [
    {
     "name": "stdout",
     "output_type": "stream",
     "text": [
      "[7 8 9]\n",
      "8\n"
     ]
    }
   ],
   "source": [
    "print(arr2d[2])\n",
    "print(arr2d[2,1])"
   ]
  },
  {
   "cell_type": "code",
   "execution_count": 82,
   "metadata": {},
   "outputs": [
    {
     "name": "stdout",
     "output_type": "stream",
     "text": [
      "[[[ 1  2  3]\n",
      "  [ 4  5  6]]\n",
      "\n",
      " [[ 7  8  9]\n",
      "  [10 11 12]]]\n"
     ]
    }
   ],
   "source": [
    "arr3d = np.array([[[1, 2, 3], [4, 5, 6]], [[7, 8, 9], [10, 11, 12]]])\n",
    "\n",
    "print(arr3d)"
   ]
  },
  {
   "cell_type": "code",
   "execution_count": 96,
   "metadata": {},
   "outputs": [
    {
     "data": {
      "text/plain": [
       "(2, 2, 3)"
      ]
     },
     "execution_count": 96,
     "metadata": {},
     "output_type": "execute_result"
    }
   ],
   "source": [
    "arr3d.shape"
   ]
  },
  {
   "cell_type": "code",
   "execution_count": 83,
   "metadata": {},
   "outputs": [
    {
     "data": {
      "text/plain": [
       "array([[1, 2, 3],\n",
       "       [4, 5, 6]])"
      ]
     },
     "execution_count": 83,
     "metadata": {},
     "output_type": "execute_result"
    }
   ],
   "source": [
    "arr3d[0]  # Output: First 2x3 array"
   ]
  },
  {
   "cell_type": "code",
   "execution_count": 84,
   "metadata": {},
   "outputs": [
    {
     "data": {
      "text/plain": [
       "array([[ 7,  8,  9],\n",
       "       [10, 11, 12]])"
      ]
     },
     "execution_count": 84,
     "metadata": {},
     "output_type": "execute_result"
    }
   ],
   "source": [
    "arr3d[1]"
   ]
  },
  {
   "cell_type": "code",
   "execution_count": 85,
   "metadata": {},
   "outputs": [
    {
     "data": {
      "text/plain": [
       "array([4, 5, 6])"
      ]
     },
     "execution_count": 85,
     "metadata": {},
     "output_type": "execute_result"
    }
   ],
   "source": [
    "arr3d[0][1]"
   ]
  },
  {
   "cell_type": "code",
   "execution_count": 101,
   "metadata": {},
   "outputs": [
    {
     "data": {
      "text/plain": [
       "array([[[4, 5, 6]]])"
      ]
     },
     "execution_count": 101,
     "metadata": {},
     "output_type": "execute_result"
    }
   ],
   "source": [
    "arr3d[0:1 , 1:2]"
   ]
  },
  {
   "cell_type": "code",
   "execution_count": 106,
   "metadata": {},
   "outputs": [
    {
     "data": {
      "text/plain": [
       "array([[4, 5, 6]])"
      ]
     },
     "execution_count": 106,
     "metadata": {},
     "output_type": "execute_result"
    }
   ],
   "source": [
    "arr3d[0 , 1:2]"
   ]
  },
  {
   "cell_type": "code",
   "execution_count": 81,
   "metadata": {},
   "outputs": [
    {
     "name": "stdout",
     "output_type": "stream",
     "text": [
      "[[1 2 3]\n",
      " [4 5 6]]\n"
     ]
    }
   ],
   "source": [
    "arr3d_new = arr3d[0].copy()  # Creates a copy of the first 2x3 array\n",
    "print(arr3d_new)"
   ]
  },
  {
   "cell_type": "markdown",
   "metadata": {},
   "source": [
    "## **1D, 2D, 3D array slicing and indexing**\n",
    "\n",
    "- 1D Slicing: [start : end : step]\n",
    "- 2D Slicing: [row_start : row_end, col_start : col_end]\n",
    "- 3D Slicing: [depth, row, col]"
   ]
  },
  {
   "cell_type": "code",
   "execution_count": 107,
   "metadata": {},
   "outputs": [
    {
     "name": "stdout",
     "output_type": "stream",
     "text": [
      "[20 30 40]\n",
      "[10 20 30]\n",
      "[30 40 50]\n",
      "[10 30 50]\n",
      "[20 40]\n"
     ]
    }
   ],
   "source": [
    "# 1D array slicing\n",
    "\n",
    "arr1d = np.array([10, 20, 30, 40, 50])\n",
    "\n",
    "print(arr1d[1:4])   # [20 30 40] (Elements from index 1 to 3)\n",
    "print(arr1d[:3])    # [10 20 30] (First 3 elements)\n",
    "print(arr1d[2:])    # [30 40 50] (From index 2 to end)\n",
    "print(arr1d[::2])   # [10 30 50] (Every 2nd element)\n",
    "print(arr1d[1::2])  # [20 40] (Every 2nd element starting from index 1)"
   ]
  },
  {
   "cell_type": "code",
   "execution_count": null,
   "metadata": {},
   "outputs": [
    {
     "name": "stdout",
     "output_type": "stream",
     "text": [
      "[[2 3]\n",
      " [5 6]]\n",
      "[[4 5]\n",
      " [7 8]]\n",
      "[[1 3]\n",
      " [4 6]\n",
      " [7 9]]\n"
     ]
    }
   ],
   "source": [
    "# 2D array slicing\n",
    "\n",
    "arr2d = np.array([\n",
    "    [1, 2, 3], \n",
    "    [4, 5, 6], \n",
    "    [7, 8, 9]\n",
    "])\n",
    "\n",
    "print(arr2d[:2, 1:])   #  (First 2 rows, columns 1 to end)\n",
    "\n",
    "print(arr2d[1:, :2])   #  (Rows 1 to end, first 2 columns)\n",
    "\n",
    "print(arr2d[:, ::2])   #  (All rows, every 2nd column)\n"
   ]
  },
  {
   "cell_type": "code",
   "execution_count": 110,
   "metadata": {},
   "outputs": [
    {
     "name": "stdout",
     "output_type": "stream",
     "text": [
      "[[1 2 3]\n",
      " [4 5 6]]\n",
      "[[ 4  5  6]\n",
      " [10 11 12]]\n",
      "[[ 2  5]\n",
      " [ 8 11]]\n"
     ]
    }
   ],
   "source": [
    "# 3D array slicing\n",
    "\n",
    "arr3d = np.array([\n",
    "    [[1, 2, 3], [4, 5, 6]],\n",
    "    [[7, 8, 9], [10, 11, 12]]\n",
    "])\n",
    "\n",
    "print(arr3d[0, :, :])   # First 2D matrix\n",
    "\n",
    "print(arr3d[:, 1, :])   # Second row from both 2D slices\n",
    "\n",
    "print(arr3d[:, :, 1])   # Second column from every matrix\n"
   ]
  },
  {
   "cell_type": "markdown",
   "metadata": {},
   "source": [
    "## **Boolean Indexing**"
   ]
  },
  {
   "cell_type": "code",
   "execution_count": null,
   "metadata": {},
   "outputs": [
    {
     "name": "stdout",
     "output_type": "stream",
     "text": [
      "[False False  True  True  True]\n",
      "[30 40 50]\n"
     ]
    }
   ],
   "source": [
    "# 1D array boolean indexing\n",
    "\n",
    "arr = np.array([10, 20, 30, 40, 50])\n",
    "\n",
    "# Get elements greater than 25\n",
    "bool_mask = arr > 25\n",
    "print(bool_mask)  \n",
    "\n",
    "filtered_arr = arr[bool_mask]\n",
    "print(filtered_arr) "
   ]
  },
  {
   "cell_type": "code",
   "execution_count": 114,
   "metadata": {},
   "outputs": [
    {
     "name": "stdout",
     "output_type": "stream",
     "text": [
      "[5 6 7 8 9]\n"
     ]
    }
   ],
   "source": [
    "# 2D array boolean indexing\n",
    "\n",
    "arr2d = np.array([\n",
    "    [1, 2, 3], \n",
    "    [4, 5, 6], \n",
    "    [7, 8, 9]\n",
    "])\n",
    "\n",
    "# Select elements greater than 4\n",
    "filtered_2d = arr2d[arr2d > 4]\n",
    "print(filtered_2d)  "
   ]
  },
  {
   "cell_type": "code",
   "execution_count": null,
   "metadata": {},
   "outputs": [
    {
     "name": "stdout",
     "output_type": "stream",
     "text": [
      "[10 20 30 40 50]\n",
      "[20 30 40]\n"
     ]
    }
   ],
   "source": [
    "# Using Boolean Indexing with Conditions\n",
    "\n",
    "# Get all even numbers\n",
    "even_numbers = arr[arr % 2 == 0]\n",
    "print(even_numbers)  \n",
    "\n",
    "# Get values between 20 and 40\n",
    "between_20_40 = arr[(arr >= 20) & (arr <= 40)]\n",
    "print(between_20_40)  "
   ]
  },
  {
   "cell_type": "code",
   "execution_count": null,
   "metadata": {},
   "outputs": [
    {
     "name": "stdout",
     "output_type": "stream",
     "text": [
      "[10 20 99 99 99]\n"
     ]
    }
   ],
   "source": [
    "# Boolean Indexing with np.where()\n",
    "\n",
    "# Replace values greater than 25 with 99\n",
    "new_arr = np.where(arr > 25, 99, arr)\n",
    "print(new_arr)  "
   ]
  },
  {
   "cell_type": "code",
   "execution_count": 124,
   "metadata": {},
   "outputs": [
    {
     "name": "stdout",
     "output_type": "stream",
     "text": [
      "names.shape: (7,)\n",
      "data.shape: (7, 4)\n",
      "Names:\n",
      " ['Bob' 'Joe' 'Will' 'Bob' 'Will' 'Joe' 'Joe']\n",
      "\n",
      "Data:\n",
      " [[ 0.49671415 -0.1382643   0.64768854  1.52302986]\n",
      " [-0.23415337 -0.23413696  1.57921282  0.76743473]\n",
      " [-0.46947439  0.54256004 -0.46341769 -0.46572975]\n",
      " [ 0.24196227 -1.91328024 -1.72491783 -0.56228753]\n",
      " [-1.01283112  0.31424733 -0.90802408 -1.4123037 ]\n",
      " [ 1.46564877 -0.2257763   0.0675282  -1.42474819]\n",
      " [-0.54438272  0.11092259 -1.15099358  0.37569802]]\n",
      "Bob Mask:\n",
      " [ True False False  True False False False]\n",
      "\n",
      "Rows where name is 'Bob':\n",
      " [[ 0.49671415 -0.1382643   0.64768854  1.52302986]\n",
      " [ 0.24196227 -1.91328024 -1.72491783 -0.56228753]]\n"
     ]
    }
   ],
   "source": [
    "# Creating an array of names (row labels)\n",
    "names = np.array(['Bob', 'Joe', 'Will', 'Bob', 'Will', 'Joe', 'Joe'])\n",
    "\n",
    "# Creating a random dataset (7 rows, 4 columns)\n",
    "np.random.seed(42)  # Ensures reproducibility\n",
    "data = np.random.randn(7, 4)  # Normally distributed random numbers\n",
    "\n",
    "print(f'names.shape: {names.shape}')\n",
    "print(f'data.shape: {data.shape}')\n",
    "\n",
    "print(\"Names:\\n\", names)\n",
    "print(\"\\nData:\\n\", data)\n",
    "\n",
    "# Boolean mask for 'Bob'\n",
    "bob_mask = names == 'Bob'\n",
    "print(\"Bob Mask:\\n\", bob_mask)\n",
    "\n",
    "# Select all rows where name is 'Bob'\n",
    "bob_rows = data[bob_mask]\n",
    "print(\"\\nRows where name is 'Bob':\\n\", bob_rows)\n",
    "\n"
   ]
  },
  {
   "cell_type": "code",
   "execution_count": 118,
   "metadata": {},
   "outputs": [
    {
     "name": "stdout",
     "output_type": "stream",
     "text": [
      "\n",
      "Bob's last two columns:\n",
      " [[ 0.64768854  1.52302986]\n",
      " [-1.72491783 -0.56228753]]\n",
      "\n",
      "Bob's 3rd column:\n",
      " [ 1.52302986 -0.56228753]\n"
     ]
    }
   ],
   "source": [
    "# Selecting only the last two columns for 'Bob'\n",
    "bob_columns = data[names == 'Bob', 2:]\n",
    "print(\"\\nBob's last two columns:\\n\", bob_columns)\n",
    "\n",
    "# Selecting only column index 3 for 'Bob'\n",
    "bob_col_3 = data[names == 'Bob', 3]\n",
    "print(\"\\nBob's 3rd column:\\n\", bob_col_3)\n"
   ]
  },
  {
   "cell_type": "code",
   "execution_count": 119,
   "metadata": {},
   "outputs": [
    {
     "name": "stdout",
     "output_type": "stream",
     "text": [
      "\n",
      "Rows where name is NOT 'Bob':\n",
      " [[-0.23415337 -0.23413696  1.57921282  0.76743473]\n",
      " [-0.46947439  0.54256004 -0.46341769 -0.46572975]\n",
      " [-1.01283112  0.31424733 -0.90802408 -1.4123037 ]\n",
      " [ 1.46564877 -0.2257763   0.0675282  -1.42474819]\n",
      " [-0.54438272  0.11092259 -1.15099358  0.37569802]]\n"
     ]
    }
   ],
   "source": [
    "# Using negation (~) to get all rows except 'Bob'\n",
    "not_bob_rows = data[~(names == 'Bob')]\n",
    "print(\"\\nRows where name is NOT 'Bob':\\n\", not_bob_rows)\n"
   ]
  },
  {
   "cell_type": "code",
   "execution_count": 120,
   "metadata": {},
   "outputs": [
    {
     "name": "stdout",
     "output_type": "stream",
     "text": [
      "\n",
      "Rows where name is 'Bob' OR 'Will':\n",
      " [[ 0.49671415 -0.1382643   0.64768854  1.52302986]\n",
      " [-0.46947439  0.54256004 -0.46341769 -0.46572975]\n",
      " [ 0.24196227 -1.91328024 -1.72491783 -0.56228753]\n",
      " [-1.01283112  0.31424733 -0.90802408 -1.4123037 ]]\n"
     ]
    }
   ],
   "source": [
    "# Using OR (|) to select 'Bob' or 'Will'\n",
    "mask = (names == 'Bob') | (names == 'Will')\n",
    "selected_rows = data[mask]\n",
    "print(\"\\nRows where name is 'Bob' OR 'Will':\\n\", selected_rows)"
   ]
  },
  {
   "cell_type": "code",
   "execution_count": 125,
   "metadata": {},
   "outputs": [
    {
     "name": "stdout",
     "output_type": "stream",
     "text": [
      "\n",
      "Data after replacing negatives with 0:\n",
      " [[0.49671415 0.         0.64768854 1.52302986]\n",
      " [0.         0.         1.57921282 0.76743473]\n",
      " [0.         0.54256004 0.         0.        ]\n",
      " [0.24196227 0.         0.         0.        ]\n",
      " [0.         0.31424733 0.         0.        ]\n",
      " [1.46564877 0.         0.0675282  0.        ]\n",
      " [0.         0.11092259 0.         0.37569802]]\n",
      "\n",
      "Data after setting rows (not 'Joe') to 7:\n",
      " [[7.         7.         7.         7.        ]\n",
      " [0.         0.         1.57921282 0.76743473]\n",
      " [7.         7.         7.         7.        ]\n",
      " [7.         7.         7.         7.        ]\n",
      " [7.         7.         7.         7.        ]\n",
      " [1.46564877 0.         0.0675282  0.        ]\n",
      " [0.         0.11092259 0.         0.37569802]]\n"
     ]
    }
   ],
   "source": [
    "# Setting all negative values to 0\n",
    "data[data < 0] = 0\n",
    "print(\"\\nData after replacing negatives with 0:\\n\", data)\n",
    "\n",
    "# Setting entire rows to 7 if name is NOT 'Joe'\n",
    "data[names != 'Joe'] = 7\n",
    "print(\"\\nData after setting rows (not 'Joe') to 7:\\n\", data)"
   ]
  },
  {
   "cell_type": "code",
   "execution_count": 126,
   "metadata": {},
   "outputs": [
    {
     "name": "stdout",
     "output_type": "stream",
     "text": [
      "Original Data:\n",
      " [[61 24 81 70 30]\n",
      " [92 96 84 84 97]\n",
      " [33 12 31 62 11]\n",
      " [97 39 47 11 73]\n",
      " [69 30 42 85 67]]\n",
      "\n",
      "Selected Rows (indices 0, 2, 4):\n",
      " [[61 24 81 70 30]\n",
      " [33 12 31 62 11]\n",
      " [69 30 42 85 67]]\n"
     ]
    }
   ],
   "source": [
    "# Creating a 2D NumPy array\n",
    "np.random.seed(42)  # Ensuring reproducibility\n",
    "data = np.random.randint(10, 100, (5, 5))  # 5x5 array with values between 10 and 99\n",
    "\n",
    "print(\"Original Data:\\n\", data)\n",
    "\n",
    "# Selecting rows at index positions 0, 2, and 4\n",
    "row_indices = [0, 2, 4]\n",
    "selected_rows = data[row_indices]\n",
    "\n",
    "print(\"\\nSelected Rows (indices 0, 2, 4):\\n\", selected_rows)"
   ]
  },
  {
   "cell_type": "code",
   "execution_count": 127,
   "metadata": {},
   "outputs": [
    {
     "name": "stdout",
     "output_type": "stream",
     "text": [
      "\n",
      "Selected Columns (indices 1, 3):\n",
      " [[24 70]\n",
      " [96 84]\n",
      " [12 62]\n",
      " [39 11]\n",
      " [30 85]]\n"
     ]
    }
   ],
   "source": [
    "# Selecting columns at index positions 1 and 3\n",
    "column_indices = [1, 3]\n",
    "selected_columns = data[:, column_indices]\n",
    "\n",
    "print(\"\\nSelected Columns (indices 1, 3):\\n\", selected_columns)"
   ]
  },
  {
   "cell_type": "code",
   "execution_count": 129,
   "metadata": {},
   "outputs": [
    {
     "name": "stdout",
     "output_type": "stream",
     "text": [
      "\n",
      "Selected Elements:\n",
      " [70 92 11]\n"
     ]
    }
   ],
   "source": [
    "# Selecting elements at specific row-column pairs\n",
    "selected_elements = data[[0, 1, 2], [3, 0, 4]]\n",
    "print(\"\\nSelected Elements:\\n\", selected_elements)"
   ]
  },
  {
   "cell_type": "code",
   "execution_count": 128,
   "metadata": {},
   "outputs": [
    {
     "name": "stdout",
     "output_type": "stream",
     "text": [
      "\n",
      "Selected Elements:\n",
      " [70 92 11]\n"
     ]
    }
   ],
   "source": [
    "# Selecting elements at specific row-column pairs\n",
    "row_indices = [0, 1, 2]\n",
    "col_indices = [3, 0, 4]\n",
    "\n",
    "selected_elements = data[row_indices, col_indices]\n",
    "print(\"\\nSelected Elements:\\n\", selected_elements)"
   ]
  },
  {
   "cell_type": "code",
   "execution_count": 130,
   "metadata": {},
   "outputs": [
    {
     "name": "stdout",
     "output_type": "stream",
     "text": [
      "\n",
      "Selected Last Two Rows:\n",
      " [[97 39 47 11 73]\n",
      " [69 30 42 85 67]]\n"
     ]
    }
   ],
   "source": [
    "# Selecting the last two rows\n",
    "selected_last_rows = data[[-2, -1]]\n",
    "\n",
    "print(\"\\nSelected Last Two Rows:\\n\", selected_last_rows)"
   ]
  },
  {
   "cell_type": "code",
   "execution_count": 131,
   "metadata": {},
   "outputs": [
    {
     "name": "stdout",
     "output_type": "stream",
     "text": [
      "[[ 0  1  2  3]\n",
      " [ 4  5  6  7]\n",
      " [ 8  9 10 11]\n",
      " [12 13 14 15]\n",
      " [16 17 18 19]\n",
      " [20 21 22 23]\n",
      " [24 25 26 27]\n",
      " [28 29 30 31]]\n"
     ]
    }
   ],
   "source": [
    "arr = np.arange(32).reshape((8, 4))\n",
    "print(arr)"
   ]
  },
  {
   "cell_type": "code",
   "execution_count": 132,
   "metadata": {},
   "outputs": [
    {
     "data": {
      "text/plain": [
       "array([[ 4,  7,  5,  6],\n",
       "       [20, 23, 21, 22],\n",
       "       [28, 31, 29, 30],\n",
       "       [ 8, 11,  9, 10]])"
      ]
     },
     "execution_count": 132,
     "metadata": {},
     "output_type": "execute_result"
    }
   ],
   "source": [
    "arr[[1, 5, 7, 2]][:, [0, 3, 1, 2]]"
   ]
  },
  {
   "cell_type": "markdown",
   "metadata": {},
   "source": [
    "# **Transpose**"
   ]
  },
  {
   "cell_type": "code",
   "execution_count": 133,
   "metadata": {},
   "outputs": [
    {
     "name": "stdout",
     "output_type": "stream",
     "text": [
      "Original Array:\n",
      " [[1 2 3]\n",
      " [4 5 6]]\n",
      "\n",
      "Transposed Array:\n",
      " [[1 4]\n",
      " [2 5]\n",
      " [3 6]]\n"
     ]
    }
   ],
   "source": [
    "import numpy as np\n",
    "\n",
    "# Creating a 2D array\n",
    "arr = np.array([[1, 2, 3], \n",
    "                [4, 5, 6]])\n",
    "\n",
    "print(\"Original Array:\\n\", arr)\n",
    "\n",
    "# Transposing the array\n",
    "arr_T = arr.T\n",
    "print(\"\\nTransposed Array:\\n\", arr_T)"
   ]
  },
  {
   "cell_type": "code",
   "execution_count": 137,
   "metadata": {},
   "outputs": [
    {
     "name": "stdout",
     "output_type": "stream",
     "text": [
      "[[[ 0  1]\n",
      "  [ 2  3]\n",
      "  [ 4  5]]\n",
      "\n",
      " [[ 6  7]\n",
      "  [ 8  9]\n",
      "  [10 11]]]\n",
      "Original Shape: (2, 3, 2)\n",
      "[[[ 0  6]\n",
      "  [ 2  8]\n",
      "  [ 4 10]]\n",
      "\n",
      " [[ 1  7]\n",
      "  [ 3  9]\n",
      "  [ 5 11]]]\n",
      "Transposed Shape: (2, 3, 2)\n"
     ]
    }
   ],
   "source": [
    "arr_3d = np.arange(12).reshape(2, 3, 2)\n",
    "print(arr_3d)\n",
    "print(\"Original Shape:\", arr_3d.shape)\n",
    "\n",
    "# Transposing the array\n",
    "arr_3d_T = arr_3d.T\n",
    "print(arr_3d_T)\n",
    "print(\"Transposed Shape:\", arr_3d_T.shape)"
   ]
  },
  {
   "cell_type": "code",
   "execution_count": 139,
   "metadata": {},
   "outputs": [
    {
     "name": "stdout",
     "output_type": "stream",
     "text": [
      "Original Array:\n",
      " [[1 2 3]\n",
      " [4 5 6]]\n",
      "\n",
      "Swapped Axes Array:\n",
      " [[1 4]\n",
      " [2 5]\n",
      " [3 6]]\n"
     ]
    }
   ],
   "source": [
    "# swapaxes\n",
    "arr = np.array([[1, 2, 3], \n",
    "                [4, 5, 6]])\n",
    "\n",
    "print(\"Original Array:\\n\", arr)\n",
    "\n",
    "# Swap axis 0 (rows) with axis 1 (columns)\n",
    "swapped = arr.swapaxes(0, 1)\n",
    "print(\"\\nSwapped Axes Array:\\n\", swapped)\n"
   ]
  },
  {
   "cell_type": "code",
   "execution_count": 147,
   "metadata": {},
   "outputs": [
    {
     "name": "stdout",
     "output_type": "stream",
     "text": [
      "\n",
      "Original Shape:\n",
      " [[[ 0  1]\n",
      "  [ 2  3]\n",
      "  [ 4  5]]\n",
      "\n",
      " [[ 6  7]\n",
      "  [ 8  9]\n",
      "  [10 11]]]\n",
      "\n",
      "Swapped Shape:\n",
      " [[[ 0  1]\n",
      "  [ 6  7]]\n",
      "\n",
      " [[ 2  3]\n",
      "  [ 8  9]]\n",
      "\n",
      " [[ 4  5]\n",
      "  [10 11]]]\n"
     ]
    }
   ],
   "source": [
    "# swapaxes in 3D\n",
    "arr_3d = np.array([[[0, 1], [2, 3], [4, 5]], \n",
    "                    [[6, 7], [8, 9], [10, 11]]])\n",
    "\n",
    "print(\"\\nOriginal Shape:\\n\", arr_3d)\n",
    "\n",
    "# Swap axis 0 and 1\n",
    "swapped = arr_3d.swapaxes(0, 1)\n",
    "\n",
    "print(\"\\nSwapped Shape:\\n\", swapped)"
   ]
  },
  {
   "cell_type": "code",
   "execution_count": 148,
   "metadata": {},
   "outputs": [
    {
     "name": "stdout",
     "output_type": "stream",
     "text": [
      "[[-2.61254901  0.95036968  0.81644508]\n",
      " [-1.523876   -0.42804606 -0.74240684]\n",
      " [-0.7033438  -2.13962066 -0.62947496]\n",
      " [ 0.59772047  2.55948803  0.39423302]\n",
      " [ 0.12221917 -0.51543566 -0.60025385]\n",
      " [ 0.94743982  0.291034   -0.63555974]]\n"
     ]
    },
    {
     "data": {
      "text/plain": [
       "array([[10.9121524 ,  1.41689014, -0.9988055 ],\n",
       "       [ 1.41689014, 12.56575621,  3.57400405],\n",
       "       [-0.9988055 ,  3.57400405,  2.53364975]])"
      ]
     },
     "execution_count": 148,
     "metadata": {},
     "output_type": "execute_result"
    }
   ],
   "source": [
    "arr = np.random.randn(6, 3)\n",
    "print(arr)\n",
    "np.dot(arr.T, arr)"
   ]
  },
  {
   "cell_type": "code",
   "execution_count": 153,
   "metadata": {},
   "outputs": [
    {
     "name": "stdout",
     "output_type": "stream",
     "text": [
      "Original Shape:\n",
      " [[[ 0  1]\n",
      "  [ 2  3]\n",
      "  [ 4  5]]\n",
      "\n",
      " [[ 6  7]\n",
      "  [ 8  9]\n",
      "  [10 11]]]\n",
      "Transposed Shape:\n",
      " [[[ 0  1]\n",
      "  [ 6  7]]\n",
      "\n",
      " [[ 2  3]\n",
      "  [ 8  9]]\n",
      "\n",
      " [[ 4  5]\n",
      "  [10 11]]]\n"
     ]
    }
   ],
   "source": [
    "arr = np.array([\n",
    "    [[ 0,  1],  [ 2,  3],  [ 4,  5]],  \n",
    "    [[ 6,  7],  [ 8,  9],  [10, 11]]  \n",
    "])\n",
    "\n",
    "print(\"Original Shape:\\n\", arr)  # (2, 3, 2)\n",
    "\n",
    "# Applying transpose\n",
    "transposed = arr.transpose((1, 0, 2))\n",
    "print(\"Transposed Shape:\\n\", transposed)"
   ]
  },
  {
   "cell_type": "markdown",
   "metadata": {},
   "source": [
    "# **Universal Functions: Fast Element-Wise Array Functions**"
   ]
  },
  {
   "cell_type": "code",
   "execution_count": 163,
   "metadata": {},
   "outputs": [
    {
     "name": "stdout",
     "output_type": "stream",
     "text": [
      "[0 1 2 3 4 5 6 7 8 9]\n",
      "[10 11 12 13 14 15 16 17 18 19]\n"
     ]
    }
   ],
   "source": [
    "arr1 = np.arange(10)\n",
    "arr2 = np.arange(10, 20)\n",
    "print(arr)\n",
    "print(arr2)"
   ]
  },
  {
   "cell_type": "code",
   "execution_count": 155,
   "metadata": {},
   "outputs": [
    {
     "data": {
      "text/plain": [
       "array([0.        , 1.        , 1.41421356, 1.73205081, 2.        ,\n",
       "       2.23606798, 2.44948974, 2.64575131, 2.82842712, 3.        ])"
      ]
     },
     "execution_count": 155,
     "metadata": {},
     "output_type": "execute_result"
    }
   ],
   "source": [
    "np.sqrt(arr)"
   ]
  },
  {
   "cell_type": "code",
   "execution_count": 156,
   "metadata": {},
   "outputs": [
    {
     "data": {
      "text/plain": [
       "array([ 0,  1,  4,  9, 16, 25, 36, 49, 64, 81])"
      ]
     },
     "execution_count": 156,
     "metadata": {},
     "output_type": "execute_result"
    }
   ],
   "source": [
    "np.square(arr)"
   ]
  },
  {
   "cell_type": "code",
   "execution_count": 157,
   "metadata": {},
   "outputs": [
    {
     "data": {
      "text/plain": [
       "array([1.00000000e+00, 2.71828183e+00, 7.38905610e+00, 2.00855369e+01,\n",
       "       5.45981500e+01, 1.48413159e+02, 4.03428793e+02, 1.09663316e+03,\n",
       "       2.98095799e+03, 8.10308393e+03])"
      ]
     },
     "execution_count": 157,
     "metadata": {},
     "output_type": "execute_result"
    }
   ],
   "source": [
    "np.exp(arr)"
   ]
  },
  {
   "cell_type": "code",
   "execution_count": 165,
   "metadata": {},
   "outputs": [
    {
     "data": {
      "text/plain": [
       "np.int64(735)"
      ]
     },
     "execution_count": 165,
     "metadata": {},
     "output_type": "execute_result"
    }
   ],
   "source": [
    "arr1.dot(arr2)"
   ]
  },
  {
   "cell_type": "code",
   "execution_count": 166,
   "metadata": {},
   "outputs": [
    {
     "data": {
      "text/plain": [
       "array([10, 11, 12, 13, 14, 15, 16, 17, 18, 19])"
      ]
     },
     "execution_count": 166,
     "metadata": {},
     "output_type": "execute_result"
    }
   ],
   "source": [
    "np.maximum(arr1, arr2)"
   ]
  },
  {
   "cell_type": "code",
   "execution_count": 167,
   "metadata": {},
   "outputs": [
    {
     "name": "stdout",
     "output_type": "stream",
     "text": [
      "[-5.10776097 -0.80877693 -2.66824402 -0.02763931 -1.14725227  1.94674457\n",
      " -6.32559557]\n"
     ]
    }
   ],
   "source": [
    "arr = np.random.randn(7) * 5\n",
    "print(arr)"
   ]
  },
  {
   "cell_type": "code",
   "execution_count": null,
   "metadata": {},
   "outputs": [
    {
     "name": "stdout",
     "output_type": "stream",
     "text": [
      "Remainder:\n",
      " [-0.10776097 -0.80877693 -0.66824402 -0.02763931 -0.14725227  0.94674457\n",
      " -0.32559557]\n",
      "\n",
      "Whole Part:\n",
      " [-5. -0. -2. -0. -1.  1. -6.]\n"
     ]
    }
   ],
   "source": [
    "# np.modf() splits floating-point numbers into their fractional and integer parts.\n",
    "\n",
    "remainder, whole_part = np.modf(arr)\n",
    "print(\"Remainder:\\n\", remainder)\n",
    "print(\"\\nWhole Part:\\n\", whole_part)"
   ]
  },
  {
   "cell_type": "code",
   "execution_count": 1,
   "metadata": {},
   "outputs": [],
   "source": [
    "import pandas as pd\n",
    "\n",
    "# Load JSON file\n",
    "df = pd.read_json(\"processed_test.json\")\n",
    "\n",
    "# Convert to Excel\n",
    "df.to_excel(\"processed_test.xlsx\", index=False)"
   ]
  }
 ],
 "metadata": {
  "kernelspec": {
   "display_name": "python",
   "language": "python",
   "name": "python3"
  },
  "language_info": {
   "codemirror_mode": {
    "name": "ipython",
    "version": 3
   },
   "file_extension": ".py",
   "mimetype": "text/x-python",
   "name": "python",
   "nbconvert_exporter": "python",
   "pygments_lexer": "ipython3",
   "version": "3.13.2"
  }
 },
 "nbformat": 4,
 "nbformat_minor": 2
}
