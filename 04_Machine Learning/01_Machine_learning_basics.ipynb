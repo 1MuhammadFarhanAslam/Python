{
 "cells": [
  {
   "cell_type": "markdown",
   "id": "64fd8d3f",
   "metadata": {},
   "source": [
    "# **Importing Essential libraries**"
   ]
  },
  {
   "cell_type": "code",
   "execution_count": null,
   "id": "ae778fe3",
   "metadata": {},
   "outputs": [],
   "source": [
    "import numpy as np\n",
    "import pandas as pd\n",
    "import seaborn as sns\n",
    "import matplotlib.pyplot as plt"
   ]
  },
  {
   "cell_type": "markdown",
   "id": "c0904f81",
   "metadata": {},
   "source": [
    "# **Exploratory Data Analysis (EDA)**\n",
    "#### **EDA helps uncover patterns, anomalies, and relationships in the data.**"
   ]
  },
  {
   "cell_type": "code",
   "execution_count": null,
   "id": "45da661d",
   "metadata": {},
   "outputs": [],
   "source": [
    "# Dataset load\n",
    "data = sns.load_dataset('titanic')\n",
    "data"
   ]
  },
  {
   "cell_type": "code",
   "execution_count": null,
   "id": "62ac8fcd",
   "metadata": {},
   "outputs": [],
   "source": [
    "# Checking dataset info\n",
    "data.info()"
   ]
  },
  {
   "cell_type": "code",
   "execution_count": null,
   "id": "8099bdcd",
   "metadata": {},
   "outputs": [],
   "source": [
    "data.describe()"
   ]
  },
  {
   "cell_type": "code",
   "execution_count": null,
   "id": "ac3e6c4c",
   "metadata": {},
   "outputs": [],
   "source": [
    "data['survived'].value_counts()"
   ]
  },
  {
   "cell_type": "code",
   "execution_count": null,
   "id": "eab14184",
   "metadata": {},
   "outputs": [],
   "source": [
    "# Checking missing values by index\n",
    "data.isnull().sum().sort_index()"
   ]
  },
  {
   "cell_type": "code",
   "execution_count": null,
   "id": "ed2e2913",
   "metadata": {},
   "outputs": [],
   "source": [
    "# Checking missing values by sorting in ascending order and descending order\n",
    "data.isnull().sum().sort_values(ascending=False)"
   ]
  },
  {
   "cell_type": "code",
   "execution_count": null,
   "id": "11a32f97",
   "metadata": {},
   "outputs": [],
   "source": [
    "# Checking missing values by percentage\n",
    "print(f\"Missing values in %age: \\n{round(data.isnull().sum() / len(data) * 100, 0).sort_values(ascending=False)}\")"
   ]
  },
  {
   "cell_type": "markdown",
   "id": "e33271fb",
   "metadata": {},
   "source": [
    "# **Data Visualizations**"
   ]
  },
  {
   "cell_type": "code",
   "execution_count": null,
   "id": "decb71bd",
   "metadata": {},
   "outputs": [],
   "source": [
    "data.plot(kind='scatter', x = 'age', y='fare', color = 'orange')"
   ]
  },
  {
   "cell_type": "code",
   "execution_count": null,
   "id": "75aa928a",
   "metadata": {},
   "outputs": [],
   "source": [
    "sns.barplot(data= data, orient='v')"
   ]
  },
  {
   "cell_type": "code",
   "execution_count": null,
   "id": "bfe32577",
   "metadata": {},
   "outputs": [],
   "source": [
    "sns.lineplot(x ='age', y = 'fare', data= data)"
   ]
  },
  {
   "cell_type": "code",
   "execution_count": null,
   "id": "244ced1d",
   "metadata": {},
   "outputs": [],
   "source": [
    "sns.barplot(x ='sex', y = 'fare', data= data, hue='class')"
   ]
  },
  {
   "cell_type": "code",
   "execution_count": null,
   "id": "1bdc3d9f",
   "metadata": {},
   "outputs": [],
   "source": [
    "sns.barplot(x ='sex', y = 'fare', data= data, hue='class', ci= None)"
   ]
  },
  {
   "cell_type": "code",
   "execution_count": null,
   "id": "7b87c0d4",
   "metadata": {},
   "outputs": [],
   "source": [
    "sns.barplot(x ='sex', y = 'fare', data= data, hue='class', errorbar=None)"
   ]
  },
  {
   "cell_type": "code",
   "execution_count": null,
   "id": "7c583dfa",
   "metadata": {},
   "outputs": [],
   "source": [
    "sns.barplot(x ='sex', y = 'fare', data= data, hue='class', errorbar=None, estimator= np.median)"
   ]
  },
  {
   "cell_type": "code",
   "execution_count": null,
   "id": "ca04545e",
   "metadata": {},
   "outputs": [],
   "source": [
    "sns.barplot(x ='sex', y = 'fare', data= data, hue='class', errorbar=None, estimator= np.median, saturation=1)"
   ]
  },
  {
   "cell_type": "code",
   "execution_count": null,
   "id": "bc371294",
   "metadata": {},
   "outputs": [],
   "source": [
    "sns.barplot(x ='sex', y = 'fare', data= data, hue='class', errorbar=None, estimator= np.median, saturation=1, linewidth = 2.5, errcolor=0.2)  # pass err_kws={'color': 0.2} instead of errcolor"
   ]
  },
  {
   "cell_type": "code",
   "execution_count": null,
   "id": "676bae1f",
   "metadata": {},
   "outputs": [],
   "source": [
    "sns.set(style='white') # style must be one of white, dark, whitegrid, darkgrid, ticks\n",
    "sns.barplot(x ='sex', y = 'fare', data= data, hue='class', errorbar=None, estimator= np.median, saturation=1, linewidth = 2.5, err_kws={'color': 0.2})"
   ]
  },
  {
   "cell_type": "code",
   "execution_count": null,
   "id": "107cae94",
   "metadata": {},
   "outputs": [],
   "source": [
    "sns.boxplot(x ='sex', y = 'fare', data= data, hue='class')"
   ]
  },
  {
   "cell_type": "code",
   "execution_count": null,
   "id": "d000d33d",
   "metadata": {},
   "outputs": [],
   "source": [
    "sns.boxplot(x ='sex', y = 'fare', data= data, hue='class', color= 'blue', order= ['female', 'male'])"
   ]
  },
  {
   "cell_type": "code",
   "execution_count": null,
   "id": "5cc3eb0d",
   "metadata": {},
   "outputs": [],
   "source": [
    "sns.boxplot(x ='sex', y = 'fare', data= data, hue='class', color= 'blue', order= ['female', 'male'])"
   ]
  },
  {
   "cell_type": "code",
   "execution_count": null,
   "id": "0e143e1e",
   "metadata": {},
   "outputs": [],
   "source": [
    "sns.boxplot(x ='sex', y = 'fare', data= data, hue='class', showmeans = True)"
   ]
  },
  {
   "cell_type": "code",
   "execution_count": null,
   "id": "6d8b5643",
   "metadata": {},
   "outputs": [],
   "source": [
    "sns.boxplot(x ='survived', y = 'age', data= data, hue='class', showmeans = True)"
   ]
  },
  {
   "cell_type": "code",
   "execution_count": null,
   "id": "71931f38",
   "metadata": {},
   "outputs": [],
   "source": [
    "sns.boxplot(x ='survived', y = 'age', data= data, hue='class', showmeans = True, meanprops = {\"marker\": \"*\",\n",
    "                                                                                              \"markersize\": 12,\n",
    "                                                                                              \"markeredgecolor\": \"red\"})\n",
    "\n",
    "plt.xlabel(\"Survived\", size= 10)\n",
    "plt.ylabel(\"Age (Years)\", size = 10)\n",
    "plt.title('How many survived and drwned', size = 10, weight = \"bold\")\n",
    "plt.show()"
   ]
  },
  {
   "cell_type": "code",
   "execution_count": null,
   "id": "5c4ad4dc",
   "metadata": {},
   "outputs": [],
   "source": [
    "# Distribution Plot – Age & Fare (to check skewness/outliers)\n",
    "plt.figure(figsize=(12, 5))\n",
    "\n",
    "# Age Distribution\n",
    "plt.subplot(1, 2, 1)\n",
    "sns.histplot(data['age'], kde=True, bins=30, color='skyblue')\n",
    "plt.title('Age Distribution')\n",
    "\n",
    "# Fare Distribution\n",
    "plt.subplot(1, 2, 2)\n",
    "sns.histplot(data['fare'], kde=True, bins=30, color='salmon')\n",
    "plt.title('Fare Distribution')\n",
    "\n",
    "plt.tight_layout()\n",
    "plt.show()\n"
   ]
  },
  {
   "cell_type": "code",
   "execution_count": null,
   "id": "2bead845",
   "metadata": {},
   "outputs": [],
   "source": [
    "# Box Plots – Spot Outliers\n",
    "plt.figure(figsize=(10, 5))\n",
    "\n",
    "# Age by Survival (fixed)\n",
    "plt.subplot(1, 2, 1)\n",
    "sns.boxplot(x='survived', y='age', data=data, hue='survived', palette='Set2', legend=False)\n",
    "plt.title('Age vs Survived')\n",
    "\n",
    "# Fare by Class (fixed)\n",
    "plt.subplot(1, 2, 2)\n",
    "sns.boxplot(x='pclass', y='fare', data=data, hue='pclass', palette='Set3', legend=False)\n",
    "plt.title('Fare vs Pclass')\n",
    "\n",
    "plt.tight_layout()\n",
    "plt.show()"
   ]
  },
  {
   "cell_type": "code",
   "execution_count": null,
   "id": "071790e6",
   "metadata": {},
   "outputs": [],
   "source": [
    "# Count Plot – Categorical Feature Distribution\n",
    "plt.figure(figsize=(12, 6))\n",
    "\n",
    "# Gender distribution\n",
    "plt.subplot(1, 2, 1)\n",
    "sns.countplot(x='sex', data=data, hue='sex', palette='Set2', legend=False)\n",
    "plt.title('Count of Passengers by Sex')\n",
    "\n",
    "# Class distribution\n",
    "plt.subplot(1, 2, 2)\n",
    "sns.countplot(x='pclass', data=data, hue='sex', palette='Set2', legend=False)\n",
    "plt.title('Passenger Count by Pclass')\n",
    "\n",
    "plt.tight_layout()\n",
    "plt.show()\n"
   ]
  },
  {
   "cell_type": "code",
   "execution_count": null,
   "id": "84f577bf",
   "metadata": {},
   "outputs": [],
   "source": [
    "# Survival Rate by Group – Bar Chart\n",
    "plt.figure(figsize=(12, 4))\n",
    "\n",
    "# Survival rate by sex\n",
    "sns.barplot(x='sex', y='survived', data=data, palette='coolwarm', hue= 'sex', legend = False)\n",
    "plt.title('Survival Rate by Sex')\n",
    "plt.ylabel('Survival Rate')\n",
    "plt.show()\n"
   ]
  },
  {
   "cell_type": "code",
   "execution_count": null,
   "id": "f95f78e7",
   "metadata": {},
   "outputs": [],
   "source": [
    "# Heatmap of missing values\n",
    "sns.heatmap(data.isnull(), cbar=False, cmap='viridis')\n",
    "plt.title('Missing Data Heatmap')\n",
    "plt.show()"
   ]
  },
  {
   "cell_type": "code",
   "execution_count": null,
   "id": "27c3bc9d",
   "metadata": {},
   "outputs": [],
   "source": [
    "# Convert categorical columns to numeric for correlation analysis\n",
    "data_numeric = data.copy()\n",
    "data_numeric['sex'] = data_numeric['sex'].map({'male': 0, 'female': 1})\n",
    "data_numeric['embarked'] = data_numeric['embarked'].map({'S': 0, 'C': 1, 'Q': 2})\n",
    "data_numeric['alone'] = data_numeric['alone'].astype(int)\n",
    "data_numeric['adult_male'] = data_numeric['adult_male'].astype(int)\n",
    "data_numeric['who'] = data_numeric['who'].map({'man': 0, 'woman': 1, 'child': 2})\n",
    "data_numeric['class'] = data_numeric['class'].map({'First': 1, 'Second': 2, 'Third': 3})\n",
    "data_numeric['embark_town'] = data_numeric['embark_town'].map({'Southampton': 0, 'Cherbourg': 1, 'Queenstown': 2})\n",
    "data_numeric['alive'] = data_numeric['alive'].map({'no': 0, 'yes': 1})\n",
    "\n",
    "# Drop columns that are not numeric or have too many missing values like 'deck'\n",
    "data_numeric = data_numeric.drop(columns=['deck'])\n",
    "\n",
    "# Drop rows with any missing values for correlation heatmap\n",
    "corr_data = data_numeric.dropna()\n",
    "\n",
    "# Plot heatmap\n",
    "plt.figure(figsize=(12, 8))\n",
    "sns.heatmap(corr_data.corr(), annot=True, fmt=\".2f\", cmap='coolwarm')\n",
    "plt.title('Correlation Heatmap - Titanic Dataset')\n",
    "plt.show()\n"
   ]
  },
  {
   "cell_type": "code",
   "execution_count": null,
   "id": "9f65ce43",
   "metadata": {},
   "outputs": [],
   "source": []
  }
 ],
 "metadata": {
  "kernelspec": {
   "display_name": "datascience",
   "language": "python",
   "name": "python3"
  },
  "language_info": {
   "codemirror_mode": {
    "name": "ipython",
    "version": 3
   },
   "file_extension": ".py",
   "mimetype": "text/x-python",
   "name": "python",
   "nbconvert_exporter": "python",
   "pygments_lexer": "ipython3",
   "version": "3.13.2"
  }
 },
 "nbformat": 4,
 "nbformat_minor": 5
}
